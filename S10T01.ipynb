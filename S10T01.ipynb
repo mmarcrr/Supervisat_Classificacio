{
 "cells": [
  {
   "cell_type": "markdown",
   "metadata": {},
   "source": [
    "# Descripció\n",
    "\n",
    "Anem a practicar i a familiaritzar-nos amb algoritmes de classificació.\n",
    "## Nivell 1\n",
    "\n",
    "\n",
    "### Exercici 1\n",
    "\n",
    "Crea almenys tres models de classificació diferents per intentar predir el millor possible l’endarreriment dels vols (ArrDelay) de DelayedFlights.csv. Considera si el vol ha arribat tard o no (ArrDelay > 0).\n",
    "\n",
    "### Exercici 2\n",
    "\n",
    "Compara els models de classificació utilitzant la precisió (accuracy), una matriu de confiança i d’altres mètriques més avançades.\n",
    "\n",
    "### Exercici 3\n",
    "\n",
    "Entrena’ls utilitzant els diferents paràmetres que admeten.\n",
    "\n",
    "### Exercici 4\n",
    "\n",
    "Compara el seu rendiment utilitzant l’aproximació traint/test o cross-validation.\n"
   ]
  },
  {
   "cell_type": "code",
   "execution_count": 366,
   "metadata": {},
   "outputs": [],
   "source": [
    "# Load libraries\n",
    "import pandas as pd\n",
    "from sklearn.tree import DecisionTreeClassifier # Import Decision Tree Classifier\n",
    "from sklearn.model_selection import train_test_split # Import train_test_split function\n",
    "from sklearn import metrics #Import scikit-learn metrics module for accuracy calculation\n",
    "from sklearn.preprocessing import StandardScaler\n",
    "from sklearn.naive_bayes import GaussianNB\n",
    "from sklearn.metrics import accuracy_score\n",
    "import seaborn as sn\n",
    "from sklearn import model_selection, preprocessing, feature_selection, ensemble, linear_model, metrics, decomposition\n",
    "import numpy as np\n",
    "import matplotlib.pyplot as plt\n",
    "from sklearn.model_selection import cross_val_score"
   ]
  },
  {
   "cell_type": "code",
   "execution_count": 367,
   "metadata": {},
   "outputs": [
    {
     "data": {
      "text/html": [
       "<div>\n",
       "<style scoped>\n",
       "    .dataframe tbody tr th:only-of-type {\n",
       "        vertical-align: middle;\n",
       "    }\n",
       "\n",
       "    .dataframe tbody tr th {\n",
       "        vertical-align: top;\n",
       "    }\n",
       "\n",
       "    .dataframe thead th {\n",
       "        text-align: right;\n",
       "    }\n",
       "</style>\n",
       "<table border=\"1\" class=\"dataframe\">\n",
       "  <thead>\n",
       "    <tr style=\"text-align: right;\">\n",
       "      <th></th>\n",
       "      <th>Year</th>\n",
       "      <th>Month</th>\n",
       "      <th>DayofMonth</th>\n",
       "      <th>DayOfWeek</th>\n",
       "      <th>DepTime</th>\n",
       "      <th>CRSDepTime</th>\n",
       "      <th>ArrTime</th>\n",
       "      <th>CRSArrTime</th>\n",
       "      <th>UniqueCarrier</th>\n",
       "      <th>FlightNum</th>\n",
       "      <th>...</th>\n",
       "      <th>TaxiIn</th>\n",
       "      <th>TaxiOut</th>\n",
       "      <th>Cancelled</th>\n",
       "      <th>CancellationCode</th>\n",
       "      <th>Diverted</th>\n",
       "      <th>CarrierDelay</th>\n",
       "      <th>WeatherDelay</th>\n",
       "      <th>NASDelay</th>\n",
       "      <th>SecurityDelay</th>\n",
       "      <th>LateAircraftDelay</th>\n",
       "    </tr>\n",
       "  </thead>\n",
       "  <tbody>\n",
       "    <tr>\n",
       "      <th>0</th>\n",
       "      <td>2008</td>\n",
       "      <td>1</td>\n",
       "      <td>3</td>\n",
       "      <td>4</td>\n",
       "      <td>2003.0</td>\n",
       "      <td>1955</td>\n",
       "      <td>2211.0</td>\n",
       "      <td>2225</td>\n",
       "      <td>WN</td>\n",
       "      <td>335</td>\n",
       "      <td>...</td>\n",
       "      <td>4.0</td>\n",
       "      <td>8.0</td>\n",
       "      <td>0</td>\n",
       "      <td>N</td>\n",
       "      <td>0</td>\n",
       "      <td>NaN</td>\n",
       "      <td>NaN</td>\n",
       "      <td>NaN</td>\n",
       "      <td>NaN</td>\n",
       "      <td>NaN</td>\n",
       "    </tr>\n",
       "    <tr>\n",
       "      <th>1</th>\n",
       "      <td>2008</td>\n",
       "      <td>1</td>\n",
       "      <td>3</td>\n",
       "      <td>4</td>\n",
       "      <td>754.0</td>\n",
       "      <td>735</td>\n",
       "      <td>1002.0</td>\n",
       "      <td>1000</td>\n",
       "      <td>WN</td>\n",
       "      <td>3231</td>\n",
       "      <td>...</td>\n",
       "      <td>5.0</td>\n",
       "      <td>10.0</td>\n",
       "      <td>0</td>\n",
       "      <td>N</td>\n",
       "      <td>0</td>\n",
       "      <td>NaN</td>\n",
       "      <td>NaN</td>\n",
       "      <td>NaN</td>\n",
       "      <td>NaN</td>\n",
       "      <td>NaN</td>\n",
       "    </tr>\n",
       "    <tr>\n",
       "      <th>2</th>\n",
       "      <td>2008</td>\n",
       "      <td>1</td>\n",
       "      <td>3</td>\n",
       "      <td>4</td>\n",
       "      <td>628.0</td>\n",
       "      <td>620</td>\n",
       "      <td>804.0</td>\n",
       "      <td>750</td>\n",
       "      <td>WN</td>\n",
       "      <td>448</td>\n",
       "      <td>...</td>\n",
       "      <td>3.0</td>\n",
       "      <td>17.0</td>\n",
       "      <td>0</td>\n",
       "      <td>N</td>\n",
       "      <td>0</td>\n",
       "      <td>NaN</td>\n",
       "      <td>NaN</td>\n",
       "      <td>NaN</td>\n",
       "      <td>NaN</td>\n",
       "      <td>NaN</td>\n",
       "    </tr>\n",
       "    <tr>\n",
       "      <th>4</th>\n",
       "      <td>2008</td>\n",
       "      <td>1</td>\n",
       "      <td>3</td>\n",
       "      <td>4</td>\n",
       "      <td>1829.0</td>\n",
       "      <td>1755</td>\n",
       "      <td>1959.0</td>\n",
       "      <td>1925</td>\n",
       "      <td>WN</td>\n",
       "      <td>3920</td>\n",
       "      <td>...</td>\n",
       "      <td>3.0</td>\n",
       "      <td>10.0</td>\n",
       "      <td>0</td>\n",
       "      <td>N</td>\n",
       "      <td>0</td>\n",
       "      <td>2.0</td>\n",
       "      <td>0.0</td>\n",
       "      <td>0.0</td>\n",
       "      <td>0.0</td>\n",
       "      <td>32.0</td>\n",
       "    </tr>\n",
       "    <tr>\n",
       "      <th>5</th>\n",
       "      <td>2008</td>\n",
       "      <td>1</td>\n",
       "      <td>3</td>\n",
       "      <td>4</td>\n",
       "      <td>1940.0</td>\n",
       "      <td>1915</td>\n",
       "      <td>2121.0</td>\n",
       "      <td>2110</td>\n",
       "      <td>WN</td>\n",
       "      <td>378</td>\n",
       "      <td>...</td>\n",
       "      <td>4.0</td>\n",
       "      <td>10.0</td>\n",
       "      <td>0</td>\n",
       "      <td>N</td>\n",
       "      <td>0</td>\n",
       "      <td>NaN</td>\n",
       "      <td>NaN</td>\n",
       "      <td>NaN</td>\n",
       "      <td>NaN</td>\n",
       "      <td>NaN</td>\n",
       "    </tr>\n",
       "  </tbody>\n",
       "</table>\n",
       "<p>5 rows × 29 columns</p>\n",
       "</div>"
      ],
      "text/plain": [
       "   Year  Month  DayofMonth  DayOfWeek  DepTime  CRSDepTime  ArrTime  \\\n",
       "0  2008      1           3          4   2003.0        1955   2211.0   \n",
       "1  2008      1           3          4    754.0         735   1002.0   \n",
       "2  2008      1           3          4    628.0         620    804.0   \n",
       "4  2008      1           3          4   1829.0        1755   1959.0   \n",
       "5  2008      1           3          4   1940.0        1915   2121.0   \n",
       "\n",
       "   CRSArrTime UniqueCarrier  FlightNum  ... TaxiIn  TaxiOut  Cancelled  \\\n",
       "0        2225            WN        335  ...    4.0      8.0          0   \n",
       "1        1000            WN       3231  ...    5.0     10.0          0   \n",
       "2         750            WN        448  ...    3.0     17.0          0   \n",
       "4        1925            WN       3920  ...    3.0     10.0          0   \n",
       "5        2110            WN        378  ...    4.0     10.0          0   \n",
       "\n",
       "   CancellationCode  Diverted  CarrierDelay WeatherDelay NASDelay  \\\n",
       "0                 N         0           NaN          NaN      NaN   \n",
       "1                 N         0           NaN          NaN      NaN   \n",
       "2                 N         0           NaN          NaN      NaN   \n",
       "4                 N         0           2.0          0.0      0.0   \n",
       "5                 N         0           NaN          NaN      NaN   \n",
       "\n",
       "   SecurityDelay  LateAircraftDelay  \n",
       "0            NaN                NaN  \n",
       "1            NaN                NaN  \n",
       "2            NaN                NaN  \n",
       "4            0.0               32.0  \n",
       "5            NaN                NaN  \n",
       "\n",
       "[5 rows x 29 columns]"
      ]
     },
     "execution_count": 367,
     "metadata": {},
     "output_type": "execute_result"
    }
   ],
   "source": [
    "file=\"DelayedFlights.csv\"\n",
    "df = pd.read_csv(file,low_memory=False,index_col=0)\n",
    "df.head()"
   ]
  },
  {
   "cell_type": "code",
   "execution_count": 368,
   "metadata": {},
   "outputs": [],
   "source": [
    "df=df.sample(n=4000)"
   ]
  },
  {
   "cell_type": "code",
   "execution_count": 369,
   "metadata": {},
   "outputs": [],
   "source": [
    "df['Delayed'] = df['ArrDelay'] > 0"
   ]
  },
  {
   "cell_type": "code",
   "execution_count": 370,
   "metadata": {},
   "outputs": [
    {
     "data": {
      "text/plain": [
       "True     3559\n",
       "False     441\n",
       "Name: Delayed, dtype: int64"
      ]
     },
     "execution_count": 370,
     "metadata": {},
     "output_type": "execute_result"
    }
   ],
   "source": [
    "df['Delayed'].value_counts()"
   ]
  },
  {
   "cell_type": "code",
   "execution_count": 371,
   "metadata": {},
   "outputs": [
    {
     "data": {
      "text/plain": [
       "True     3559\n",
       "False     441\n",
       "Name: Delayed, dtype: int64"
      ]
     },
     "execution_count": 371,
     "metadata": {},
     "output_type": "execute_result"
    }
   ],
   "source": [
    "df.drop(['Year','Month','DayofMonth','DayOfWeek','TailNum','Cancelled', 'CancellationCode', 'Diverted', 'UniqueCarrier', 'Origin', 'Dest','ArrDelay'], axis=1, inplace=True) \n",
    "#df.dropna(inplace=True) \n",
    "df['Delayed'].value_counts()"
   ]
  },
  {
   "cell_type": "code",
   "execution_count": 372,
   "metadata": {},
   "outputs": [
    {
     "data": {
      "text/plain": [
       "True     3559\n",
       "False     420\n",
       "Name: Delayed, dtype: int64"
      ]
     },
     "execution_count": 372,
     "metadata": {},
     "output_type": "execute_result"
    }
   ],
   "source": [
    "df['CarrierDelay'] = df['CarrierDelay'].fillna(0)\n",
    "df['WeatherDelay'] = df['WeatherDelay'].fillna(0)\n",
    "df['NASDelay'] = df['NASDelay'].fillna(0)\n",
    "df['SecurityDelay'] = df['SecurityDelay'].fillna(0)\n",
    "df['LateAircraftDelay'] = df['LateAircraftDelay'].fillna(0)\n",
    "df.dropna(inplace=True) \n",
    "df['Delayed'].value_counts()"
   ]
  },
  {
   "cell_type": "code",
   "execution_count": 373,
   "metadata": {},
   "outputs": [],
   "source": [
    "X=df #dataset\n",
    "y=df['Delayed']"
   ]
  },
  {
   "cell_type": "code",
   "execution_count": 374,
   "metadata": {},
   "outputs": [
    {
     "data": {
      "text/plain": [
       "True     3559\n",
       "False     420\n",
       "Name: Delayed, dtype: int64"
      ]
     },
     "execution_count": 374,
     "metadata": {},
     "output_type": "execute_result"
    }
   ],
   "source": [
    "y.value_counts()"
   ]
  },
  {
   "cell_type": "code",
   "execution_count": 375,
   "metadata": {},
   "outputs": [],
   "source": [
    "X_train, X_test, y_train, y_test = train_test_split(X, y, test_size=0.33)"
   ]
  },
  {
   "cell_type": "code",
   "execution_count": 376,
   "metadata": {},
   "outputs": [],
   "source": [
    "#Escalat de les dades\n",
    "scaler = StandardScaler()\n",
    "scaler.fit(X_train)\n",
    "X_train = scaler.transform(X_train)\n",
    "X_test = scaler.transform(X_test)"
   ]
  },
  {
   "cell_type": "code",
   "execution_count": 377,
   "metadata": {},
   "outputs": [
    {
     "name": "stdout",
     "output_type": "stream",
     "text": [
      "Precisió arbre classificació  criteri gini: 1.0\n"
     ]
    }
   ],
   "source": [
    "clf = DecisionTreeClassifier()\n",
    "# Train Decision Tree Classifer\n",
    "clf = clf.fit(X_train,y_train)\n",
    "#Predict the response for test dataset\n",
    "y_pred = clf.predict(X_test)\n",
    "# Model Accuracy, how often is the classifier correct?\n",
    "print(\"Precisió arbre classificació  criteri gini:\",metrics.accuracy_score(y_test, y_pred))"
   ]
  },
  {
   "cell_type": "code",
   "execution_count": 378,
   "metadata": {},
   "outputs": [
    {
     "name": "stdout",
     "output_type": "stream",
     "text": [
      "Media de cross_validation 1.0\n"
     ]
    }
   ],
   "source": [
    "scores=cross_val_score(clf, X, y, cv=5, scoring='f1_macro')\n",
    "print(\"Media de cross_validation\", scores.mean())"
   ]
  },
  {
   "cell_type": "code",
   "execution_count": 379,
   "metadata": {},
   "outputs": [
    {
     "data": {
      "image/png": "[encoded data removed]",
      "text/plain": [
       "<Figure size 432x288 with 2 Axes>"
      ]
     },
     "metadata": {
      "needs_background": "light"
     },
     "output_type": "display_data"
    }
   ],
   "source": [
    "confusion_matrix = pd.crosstab(y_test, y_pred, rownames=['Actual'], colnames=['Predicted'])\n",
    "sn.heatmap(confusion_matrix, annot=True)\n",
    "plt.show()"
   ]
  },
  {
   "cell_type": "code",
   "execution_count": 380,
   "metadata": {},
   "outputs": [
    {
     "name": "stdout",
     "output_type": "stream",
     "text": [
      "Metrica del modelo 1.0\n",
      "Media de cross_validation 1.0\n"
     ]
    }
   ],
   "source": [
    "# Inicializar nosso classificador\n",
    "gnb = GaussianNB()\n",
    "# Treinar nosso classificador\n",
    "model = gnb.fit(X_train, y_train)\n",
    "# Fazer previsões\n",
    "preds = gnb.predict(X_test)\n",
    "\n",
    "score = model.score(X_train,y_train)\n",
    "print(\"Metrica del modelo\", score)\n",
    " \n",
    "scores=cross_val_score(model, X, y, cv=5, scoring='f1_macro')\n",
    "print(\"Media de cross_validation\", scores.mean())\n"
   ]
  },
  {
   "cell_type": "code",
   "execution_count": 381,
   "metadata": {},
   "outputs": [
    {
     "data": {
      "text/plain": [
       "array([ True,  True,  True, ...,  True,  True,  True])"
      ]
     },
     "execution_count": 381,
     "metadata": {},
     "output_type": "execute_result"
    }
   ],
   "source": [
    "preds"
   ]
  },
  {
   "cell_type": "code",
   "execution_count": 382,
   "metadata": {},
   "outputs": [
    {
     "data": {
      "image/png": "[encoded data removed]",
      "text/plain": [
       "<Figure size 432x288 with 2 Axes>"
      ]
     },
     "metadata": {
      "needs_background": "light"
     },
     "output_type": "display_data"
    }
   ],
   "source": [
    "confusion_matrix = pd.crosstab(y_test, preds, rownames=['Actual'], colnames=['Predicted'])\n",
    "sn.heatmap(confusion_matrix, annot=True)\n",
    "plt.show()"
   ]
  },
  {
   "cell_type": "code",
   "execution_count": 383,
   "metadata": {},
   "outputs": [
    {
     "name": "stdout",
     "output_type": "stream",
     "text": [
      "Metrica del modelo 0.999624765478424\n",
      "Media de cross_validation 0.4902174131591317\n"
     ]
    }
   ],
   "source": [
    "from sklearn.neighbors import KNeighborsClassifier\n",
    "from sklearn.metrics import confusion_matrix\n",
    "knn_classifier = KNeighborsClassifier()\n",
    "knn_classifier.fit(X_train, y_train)\n",
    "y_pred = knn_classifier.predict(X_test)\n",
    "\n",
    "score = knn_classifier.score(X_train,y_train)\n",
    "print(\"Metrica del modelo\", score)\n",
    " \n",
    "scores=cross_val_score(knn_classifier, X, y, cv=5, scoring='f1_macro')\n",
    "print(\"Media de cross_validation\", scores.mean())\n",
    "\n",
    "\n"
   ]
  },
  {
   "cell_type": "code",
   "execution_count": 394,
   "metadata": {},
   "outputs": [
    {
     "data": {
      "text/plain": [
       "array([ True,  True,  True, ...,  True,  True,  True])"
      ]
     },
     "execution_count": 394,
     "metadata": {},
     "output_type": "execute_result"
    }
   ],
   "source": [
    "y_pred"
   ]
  },
  {
   "cell_type": "code",
   "execution_count": 393,
   "metadata": {},
   "outputs": [
    {
     "data": {
      "text/plain": [
       "(2984,)"
      ]
     },
     "execution_count": 393,
     "metadata": {},
     "output_type": "execute_result"
    }
   ],
   "source": [
    "y_train.shape"
   ]
  },
  {
   "cell_type": "code",
   "execution_count": 389,
   "metadata": {},
   "outputs": [
    {
     "ename": "ValueError",
     "evalue": "Length of values (1314) does not match length of index (995)",
     "output_type": "error",
     "traceback": [
      "\u001b[0;31m---------------------------------------------------------------------------\u001b[0m",
      "\u001b[0;31mValueError\u001b[0m                                Traceback (most recent call last)",
      "\u001b[1;32m/home/marcr/Documents/itacademy/Supervisat_Classificacio/S10T01.ipynb Cell 20'\u001b[0m in \u001b[0;36m<cell line: 1>\u001b[0;34m()\u001b[0m\n\u001b[0;32m----> <a href='vscode-notebook-cell:/home/marcr/Documents/itacademy/Supervisat_Classificacio/S10T01.ipynb#ch0000034?line=0'>1</a>\u001b[0m confusion_matrix \u001b[39m=\u001b[39m pd\u001b[39m.\u001b[39;49mcrosstab(y_test, y_pred, rownames\u001b[39m=\u001b[39;49m[\u001b[39m'\u001b[39;49m\u001b[39mActual\u001b[39;49m\u001b[39m'\u001b[39;49m], colnames\u001b[39m=\u001b[39;49m[\u001b[39m'\u001b[39;49m\u001b[39mPredicted\u001b[39;49m\u001b[39m'\u001b[39;49m])\n\u001b[1;32m      <a href='vscode-notebook-cell:/home/marcr/Documents/itacademy/Supervisat_Classificacio/S10T01.ipynb#ch0000034?line=1'>2</a>\u001b[0m sn\u001b[39m.\u001b[39mheatmap(confusion_matrix, annot\u001b[39m=\u001b[39m\u001b[39mTrue\u001b[39;00m)\n\u001b[1;32m      <a href='vscode-notebook-cell:/home/marcr/Documents/itacademy/Supervisat_Classificacio/S10T01.ipynb#ch0000034?line=2'>3</a>\u001b[0m plt\u001b[39m.\u001b[39mshow()\n",
      "File \u001b[0;32m~/Documents/itacademy/Supervisat_Classificacio/.venv/lib64/python3.10/site-packages/pandas/core/reshape/pivot.py:661\u001b[0m, in \u001b[0;36mcrosstab\u001b[0;34m(index, columns, values, rownames, colnames, aggfunc, margins, margins_name, dropna, normalize)\u001b[0m\n\u001b[1;32m    <a href='file:///home/marcr/Documents/itacademy/Supervisat_Classificacio/.venv/lib64/python3.10/site-packages/pandas/core/reshape/pivot.py?line=654'>655</a>\u001b[0m \u001b[39mfrom\u001b[39;00m \u001b[39mpandas\u001b[39;00m \u001b[39mimport\u001b[39;00m DataFrame\n\u001b[1;32m    <a href='file:///home/marcr/Documents/itacademy/Supervisat_Classificacio/.venv/lib64/python3.10/site-packages/pandas/core/reshape/pivot.py?line=656'>657</a>\u001b[0m data \u001b[39m=\u001b[39m {\n\u001b[1;32m    <a href='file:///home/marcr/Documents/itacademy/Supervisat_Classificacio/.venv/lib64/python3.10/site-packages/pandas/core/reshape/pivot.py?line=657'>658</a>\u001b[0m     \u001b[39m*\u001b[39m\u001b[39m*\u001b[39m\u001b[39mdict\u001b[39m(\u001b[39mzip\u001b[39m(unique_rownames, index)),\n\u001b[1;32m    <a href='file:///home/marcr/Documents/itacademy/Supervisat_Classificacio/.venv/lib64/python3.10/site-packages/pandas/core/reshape/pivot.py?line=658'>659</a>\u001b[0m     \u001b[39m*\u001b[39m\u001b[39m*\u001b[39m\u001b[39mdict\u001b[39m(\u001b[39mzip\u001b[39m(unique_colnames, columns)),\n\u001b[1;32m    <a href='file:///home/marcr/Documents/itacademy/Supervisat_Classificacio/.venv/lib64/python3.10/site-packages/pandas/core/reshape/pivot.py?line=659'>660</a>\u001b[0m }\n\u001b[0;32m--> <a href='file:///home/marcr/Documents/itacademy/Supervisat_Classificacio/.venv/lib64/python3.10/site-packages/pandas/core/reshape/pivot.py?line=660'>661</a>\u001b[0m df \u001b[39m=\u001b[39m DataFrame(data, index\u001b[39m=\u001b[39;49mcommon_idx)\n\u001b[1;32m    <a href='file:///home/marcr/Documents/itacademy/Supervisat_Classificacio/.venv/lib64/python3.10/site-packages/pandas/core/reshape/pivot.py?line=662'>663</a>\u001b[0m \u001b[39mif\u001b[39;00m values \u001b[39mis\u001b[39;00m \u001b[39mNone\u001b[39;00m:\n\u001b[1;32m    <a href='file:///home/marcr/Documents/itacademy/Supervisat_Classificacio/.venv/lib64/python3.10/site-packages/pandas/core/reshape/pivot.py?line=663'>664</a>\u001b[0m     df[\u001b[39m\"\u001b[39m\u001b[39m__dummy__\u001b[39m\u001b[39m\"\u001b[39m] \u001b[39m=\u001b[39m \u001b[39m0\u001b[39m\n",
      "File \u001b[0;32m~/Documents/itacademy/Supervisat_Classificacio/.venv/lib64/python3.10/site-packages/pandas/core/frame.py:636\u001b[0m, in \u001b[0;36mDataFrame.__init__\u001b[0;34m(self, data, index, columns, dtype, copy)\u001b[0m\n\u001b[1;32m    <a href='file:///home/marcr/Documents/itacademy/Supervisat_Classificacio/.venv/lib64/python3.10/site-packages/pandas/core/frame.py?line=629'>630</a>\u001b[0m     mgr \u001b[39m=\u001b[39m \u001b[39mself\u001b[39m\u001b[39m.\u001b[39m_init_mgr(\n\u001b[1;32m    <a href='file:///home/marcr/Documents/itacademy/Supervisat_Classificacio/.venv/lib64/python3.10/site-packages/pandas/core/frame.py?line=630'>631</a>\u001b[0m         data, axes\u001b[39m=\u001b[39m{\u001b[39m\"\u001b[39m\u001b[39mindex\u001b[39m\u001b[39m\"\u001b[39m: index, \u001b[39m\"\u001b[39m\u001b[39mcolumns\u001b[39m\u001b[39m\"\u001b[39m: columns}, dtype\u001b[39m=\u001b[39mdtype, copy\u001b[39m=\u001b[39mcopy\n\u001b[1;32m    <a href='file:///home/marcr/Documents/itacademy/Supervisat_Classificacio/.venv/lib64/python3.10/site-packages/pandas/core/frame.py?line=631'>632</a>\u001b[0m     )\n\u001b[1;32m    <a href='file:///home/marcr/Documents/itacademy/Supervisat_Classificacio/.venv/lib64/python3.10/site-packages/pandas/core/frame.py?line=633'>634</a>\u001b[0m \u001b[39melif\u001b[39;00m \u001b[39misinstance\u001b[39m(data, \u001b[39mdict\u001b[39m):\n\u001b[1;32m    <a href='file:///home/marcr/Documents/itacademy/Supervisat_Classificacio/.venv/lib64/python3.10/site-packages/pandas/core/frame.py?line=634'>635</a>\u001b[0m     \u001b[39m# GH#38939 de facto copy defaults to False only in non-dict cases\u001b[39;00m\n\u001b[0;32m--> <a href='file:///home/marcr/Documents/itacademy/Supervisat_Classificacio/.venv/lib64/python3.10/site-packages/pandas/core/frame.py?line=635'>636</a>\u001b[0m     mgr \u001b[39m=\u001b[39m dict_to_mgr(data, index, columns, dtype\u001b[39m=\u001b[39;49mdtype, copy\u001b[39m=\u001b[39;49mcopy, typ\u001b[39m=\u001b[39;49mmanager)\n\u001b[1;32m    <a href='file:///home/marcr/Documents/itacademy/Supervisat_Classificacio/.venv/lib64/python3.10/site-packages/pandas/core/frame.py?line=636'>637</a>\u001b[0m \u001b[39melif\u001b[39;00m \u001b[39misinstance\u001b[39m(data, ma\u001b[39m.\u001b[39mMaskedArray):\n\u001b[1;32m    <a href='file:///home/marcr/Documents/itacademy/Supervisat_Classificacio/.venv/lib64/python3.10/site-packages/pandas/core/frame.py?line=637'>638</a>\u001b[0m     \u001b[39mimport\u001b[39;00m \u001b[39mnumpy\u001b[39;00m\u001b[39m.\u001b[39;00m\u001b[39mma\u001b[39;00m\u001b[39m.\u001b[39;00m\u001b[39mmrecords\u001b[39;00m \u001b[39mas\u001b[39;00m \u001b[39mmrecords\u001b[39;00m\n",
      "File \u001b[0;32m~/Documents/itacademy/Supervisat_Classificacio/.venv/lib64/python3.10/site-packages/pandas/core/internals/construction.py:502\u001b[0m, in \u001b[0;36mdict_to_mgr\u001b[0;34m(data, index, columns, dtype, typ, copy)\u001b[0m\n\u001b[1;32m    <a href='file:///home/marcr/Documents/itacademy/Supervisat_Classificacio/.venv/lib64/python3.10/site-packages/pandas/core/internals/construction.py?line=493'>494</a>\u001b[0m     arrays \u001b[39m=\u001b[39m [\n\u001b[1;32m    <a href='file:///home/marcr/Documents/itacademy/Supervisat_Classificacio/.venv/lib64/python3.10/site-packages/pandas/core/internals/construction.py?line=494'>495</a>\u001b[0m         x\n\u001b[1;32m    <a href='file:///home/marcr/Documents/itacademy/Supervisat_Classificacio/.venv/lib64/python3.10/site-packages/pandas/core/internals/construction.py?line=495'>496</a>\u001b[0m         \u001b[39mif\u001b[39;00m \u001b[39mnot\u001b[39;00m \u001b[39mhasattr\u001b[39m(x, \u001b[39m\"\u001b[39m\u001b[39mdtype\u001b[39m\u001b[39m\"\u001b[39m) \u001b[39mor\u001b[39;00m \u001b[39mnot\u001b[39;00m \u001b[39misinstance\u001b[39m(x\u001b[39m.\u001b[39mdtype, ExtensionDtype)\n\u001b[1;32m    <a href='file:///home/marcr/Documents/itacademy/Supervisat_Classificacio/.venv/lib64/python3.10/site-packages/pandas/core/internals/construction.py?line=496'>497</a>\u001b[0m         \u001b[39melse\u001b[39;00m x\u001b[39m.\u001b[39mcopy()\n\u001b[1;32m    <a href='file:///home/marcr/Documents/itacademy/Supervisat_Classificacio/.venv/lib64/python3.10/site-packages/pandas/core/internals/construction.py?line=497'>498</a>\u001b[0m         \u001b[39mfor\u001b[39;00m x \u001b[39min\u001b[39;00m arrays\n\u001b[1;32m    <a href='file:///home/marcr/Documents/itacademy/Supervisat_Classificacio/.venv/lib64/python3.10/site-packages/pandas/core/internals/construction.py?line=498'>499</a>\u001b[0m     ]\n\u001b[1;32m    <a href='file:///home/marcr/Documents/itacademy/Supervisat_Classificacio/.venv/lib64/python3.10/site-packages/pandas/core/internals/construction.py?line=499'>500</a>\u001b[0m     \u001b[39m# TODO: can we get rid of the dt64tz special case above?\u001b[39;00m\n\u001b[0;32m--> <a href='file:///home/marcr/Documents/itacademy/Supervisat_Classificacio/.venv/lib64/python3.10/site-packages/pandas/core/internals/construction.py?line=501'>502</a>\u001b[0m \u001b[39mreturn\u001b[39;00m arrays_to_mgr(arrays, columns, index, dtype\u001b[39m=\u001b[39;49mdtype, typ\u001b[39m=\u001b[39;49mtyp, consolidate\u001b[39m=\u001b[39;49mcopy)\n",
      "File \u001b[0;32m~/Documents/itacademy/Supervisat_Classificacio/.venv/lib64/python3.10/site-packages/pandas/core/internals/construction.py:125\u001b[0m, in \u001b[0;36marrays_to_mgr\u001b[0;34m(arrays, columns, index, dtype, verify_integrity, typ, consolidate)\u001b[0m\n\u001b[1;32m    <a href='file:///home/marcr/Documents/itacademy/Supervisat_Classificacio/.venv/lib64/python3.10/site-packages/pandas/core/internals/construction.py?line=121'>122</a>\u001b[0m         index \u001b[39m=\u001b[39m ensure_index(index)\n\u001b[1;32m    <a href='file:///home/marcr/Documents/itacademy/Supervisat_Classificacio/.venv/lib64/python3.10/site-packages/pandas/core/internals/construction.py?line=123'>124</a>\u001b[0m     \u001b[39m# don't force copy because getting jammed in an ndarray anyway\u001b[39;00m\n\u001b[0;32m--> <a href='file:///home/marcr/Documents/itacademy/Supervisat_Classificacio/.venv/lib64/python3.10/site-packages/pandas/core/internals/construction.py?line=124'>125</a>\u001b[0m     arrays \u001b[39m=\u001b[39m _homogenize(arrays, index, dtype)\n\u001b[1;32m    <a href='file:///home/marcr/Documents/itacademy/Supervisat_Classificacio/.venv/lib64/python3.10/site-packages/pandas/core/internals/construction.py?line=125'>126</a>\u001b[0m     \u001b[39m# _homogenize ensures\u001b[39;00m\n\u001b[1;32m    <a href='file:///home/marcr/Documents/itacademy/Supervisat_Classificacio/.venv/lib64/python3.10/site-packages/pandas/core/internals/construction.py?line=126'>127</a>\u001b[0m     \u001b[39m#  - all(len(x) == len(index) for x in arrays)\u001b[39;00m\n\u001b[1;32m    <a href='file:///home/marcr/Documents/itacademy/Supervisat_Classificacio/.venv/lib64/python3.10/site-packages/pandas/core/internals/construction.py?line=127'>128</a>\u001b[0m     \u001b[39m#  - all(x.ndim == 1 for x in arrays)\u001b[39;00m\n\u001b[0;32m   (...)\u001b[0m\n\u001b[1;32m    <a href='file:///home/marcr/Documents/itacademy/Supervisat_Classificacio/.venv/lib64/python3.10/site-packages/pandas/core/internals/construction.py?line=130'>131</a>\u001b[0m \n\u001b[1;32m    <a href='file:///home/marcr/Documents/itacademy/Supervisat_Classificacio/.venv/lib64/python3.10/site-packages/pandas/core/internals/construction.py?line=131'>132</a>\u001b[0m \u001b[39melse\u001b[39;00m:\n\u001b[1;32m    <a href='file:///home/marcr/Documents/itacademy/Supervisat_Classificacio/.venv/lib64/python3.10/site-packages/pandas/core/internals/construction.py?line=132'>133</a>\u001b[0m     index \u001b[39m=\u001b[39m ensure_index(index)\n",
      "File \u001b[0;32m~/Documents/itacademy/Supervisat_Classificacio/.venv/lib64/python3.10/site-packages/pandas/core/internals/construction.py:628\u001b[0m, in \u001b[0;36m_homogenize\u001b[0;34m(data, index, dtype)\u001b[0m\n\u001b[1;32m    <a href='file:///home/marcr/Documents/itacademy/Supervisat_Classificacio/.venv/lib64/python3.10/site-packages/pandas/core/internals/construction.py?line=622'>623</a>\u001b[0m             val \u001b[39m=\u001b[39m lib\u001b[39m.\u001b[39mfast_multiget(val, oindex\u001b[39m.\u001b[39m_values, default\u001b[39m=\u001b[39mnp\u001b[39m.\u001b[39mnan)\n\u001b[1;32m    <a href='file:///home/marcr/Documents/itacademy/Supervisat_Classificacio/.venv/lib64/python3.10/site-packages/pandas/core/internals/construction.py?line=624'>625</a>\u001b[0m         val \u001b[39m=\u001b[39m sanitize_array(\n\u001b[1;32m    <a href='file:///home/marcr/Documents/itacademy/Supervisat_Classificacio/.venv/lib64/python3.10/site-packages/pandas/core/internals/construction.py?line=625'>626</a>\u001b[0m             val, index, dtype\u001b[39m=\u001b[39mdtype, copy\u001b[39m=\u001b[39m\u001b[39mFalse\u001b[39;00m, raise_cast_failure\u001b[39m=\u001b[39m\u001b[39mFalse\u001b[39;00m\n\u001b[1;32m    <a href='file:///home/marcr/Documents/itacademy/Supervisat_Classificacio/.venv/lib64/python3.10/site-packages/pandas/core/internals/construction.py?line=626'>627</a>\u001b[0m         )\n\u001b[0;32m--> <a href='file:///home/marcr/Documents/itacademy/Supervisat_Classificacio/.venv/lib64/python3.10/site-packages/pandas/core/internals/construction.py?line=627'>628</a>\u001b[0m         com\u001b[39m.\u001b[39;49mrequire_length_match(val, index)\n\u001b[1;32m    <a href='file:///home/marcr/Documents/itacademy/Supervisat_Classificacio/.venv/lib64/python3.10/site-packages/pandas/core/internals/construction.py?line=629'>630</a>\u001b[0m     homogenized\u001b[39m.\u001b[39mappend(val)\n\u001b[1;32m    <a href='file:///home/marcr/Documents/itacademy/Supervisat_Classificacio/.venv/lib64/python3.10/site-packages/pandas/core/internals/construction.py?line=631'>632</a>\u001b[0m \u001b[39mreturn\u001b[39;00m homogenized\n",
      "File \u001b[0;32m~/Documents/itacademy/Supervisat_Classificacio/.venv/lib64/python3.10/site-packages/pandas/core/common.py:557\u001b[0m, in \u001b[0;36mrequire_length_match\u001b[0;34m(data, index)\u001b[0m\n\u001b[1;32m    <a href='file:///home/marcr/Documents/itacademy/Supervisat_Classificacio/.venv/lib64/python3.10/site-packages/pandas/core/common.py?line=552'>553</a>\u001b[0m \u001b[39m\"\"\"\u001b[39;00m\n\u001b[1;32m    <a href='file:///home/marcr/Documents/itacademy/Supervisat_Classificacio/.venv/lib64/python3.10/site-packages/pandas/core/common.py?line=553'>554</a>\u001b[0m \u001b[39mCheck the length of data matches the length of the index.\u001b[39;00m\n\u001b[1;32m    <a href='file:///home/marcr/Documents/itacademy/Supervisat_Classificacio/.venv/lib64/python3.10/site-packages/pandas/core/common.py?line=554'>555</a>\u001b[0m \u001b[39m\"\"\"\u001b[39;00m\n\u001b[1;32m    <a href='file:///home/marcr/Documents/itacademy/Supervisat_Classificacio/.venv/lib64/python3.10/site-packages/pandas/core/common.py?line=555'>556</a>\u001b[0m \u001b[39mif\u001b[39;00m \u001b[39mlen\u001b[39m(data) \u001b[39m!=\u001b[39m \u001b[39mlen\u001b[39m(index):\n\u001b[0;32m--> <a href='file:///home/marcr/Documents/itacademy/Supervisat_Classificacio/.venv/lib64/python3.10/site-packages/pandas/core/common.py?line=556'>557</a>\u001b[0m     \u001b[39mraise\u001b[39;00m \u001b[39mValueError\u001b[39;00m(\n\u001b[1;32m    <a href='file:///home/marcr/Documents/itacademy/Supervisat_Classificacio/.venv/lib64/python3.10/site-packages/pandas/core/common.py?line=557'>558</a>\u001b[0m         \u001b[39m\"\u001b[39m\u001b[39mLength of values \u001b[39m\u001b[39m\"\u001b[39m\n\u001b[1;32m    <a href='file:///home/marcr/Documents/itacademy/Supervisat_Classificacio/.venv/lib64/python3.10/site-packages/pandas/core/common.py?line=558'>559</a>\u001b[0m         \u001b[39mf\u001b[39m\u001b[39m\"\u001b[39m\u001b[39m(\u001b[39m\u001b[39m{\u001b[39;00m\u001b[39mlen\u001b[39m(data)\u001b[39m}\u001b[39;00m\u001b[39m) \u001b[39m\u001b[39m\"\u001b[39m\n\u001b[1;32m    <a href='file:///home/marcr/Documents/itacademy/Supervisat_Classificacio/.venv/lib64/python3.10/site-packages/pandas/core/common.py?line=559'>560</a>\u001b[0m         \u001b[39m\"\u001b[39m\u001b[39mdoes not match length of index \u001b[39m\u001b[39m\"\u001b[39m\n\u001b[1;32m    <a href='file:///home/marcr/Documents/itacademy/Supervisat_Classificacio/.venv/lib64/python3.10/site-packages/pandas/core/common.py?line=560'>561</a>\u001b[0m         \u001b[39mf\u001b[39m\u001b[39m\"\u001b[39m\u001b[39m(\u001b[39m\u001b[39m{\u001b[39;00m\u001b[39mlen\u001b[39m(index)\u001b[39m}\u001b[39;00m\u001b[39m)\u001b[39m\u001b[39m\"\u001b[39m\n\u001b[1;32m    <a href='file:///home/marcr/Documents/itacademy/Supervisat_Classificacio/.venv/lib64/python3.10/site-packages/pandas/core/common.py?line=561'>562</a>\u001b[0m     )\n",
      "\u001b[0;31mValueError\u001b[0m: Length of values (1314) does not match length of index (995)"
     ]
    }
   ],
   "source": [
    "confusion_matrix = pd.crosstab(y_test, y_pred, rownames=['Actual'], colnames=['Predicted'])\n",
    "sn.heatmap(confusion_matrix, annot=True)\n",
    "plt.show()"
   ]
  },
  {
   "cell_type": "code",
   "execution_count": 384,
   "metadata": {},
   "outputs": [],
   "source": [
    "# padronizacao dos valores\n",
    "from sklearn.preprocessing import StandardScaler\n",
    "sc = StandardScaler()\n",
    "X_train = sc.fit_transform(X_train)\n",
    "X_test = sc.transform(X_test)"
   ]
  },
  {
   "cell_type": "code",
   "execution_count": 385,
   "metadata": {},
   "outputs": [
    {
     "name": "stdout",
     "output_type": "stream",
     "text": [
      "Metrica del modelo 1.0\n",
      "Media de cross_validation 0.9973589023452748\n"
     ]
    }
   ],
   "source": [
    "# importing necessary libraries\n",
    "from sklearn.metrics import confusion_matrix\n",
    "from sklearn.model_selection import train_test_split\n",
    " \n",
    "\n",
    "# dividing X, y into train and test data\n",
    "X_train, X_test, y_train, y_test = train_test_split(X, y, random_state = 0)\n",
    " \n",
    "# training a linear SVM classifier\n",
    "from sklearn.svm import SVC\n",
    "svm_model_linear = SVC(kernel = 'linear', C = 1).fit(X_train, y_train)\n",
    "svm_predictions = svm_model_linear.predict(X_test)\n",
    "\n",
    "\n",
    "score = svm_model_linear.score(X_train,y_train)\n",
    "print(\"Metrica del modelo\", score)\n",
    " \n",
    "scores=cross_val_score(svm_model_linear, X, y, cv=5, scoring='f1_macro')\n",
    "print(\"Media de cross_validation\", scores.mean())\n"
   ]
  },
  {
   "cell_type": "markdown",
   "metadata": {},
   "source": [
    "\n",
    "## Nivell 2\n",
    "\n",
    "### Exercici 5\n",
    "\n",
    "Realitza algun procés d’enginyeria de variables per millorar-ne la predicció\n"
   ]
  },
  {
   "cell_type": "code",
   "execution_count": 386,
   "metadata": {},
   "outputs": [
    {
     "name": "stdout",
     "output_type": "stream",
     "text": [
      "[[  2  99]\n",
      " [  5 889]]\n"
     ]
    }
   ],
   "source": [
    "# importing necessary libraries\n",
    "from sklearn import datasets\n",
    "from sklearn.metrics import confusion_matrix\n",
    "from sklearn.model_selection import train_test_split\n",
    "\n",
    " \n",
    "# training a KNN classifier\n",
    "from sklearn.neighbors import KNeighborsClassifier\n",
    "knn = KNeighborsClassifier(n_neighbors = 7).fit(X_train, y_train)\n",
    " \n",
    "# accuracy on X_test\n",
    "accuracy = knn.score(X_test, y_test)\n",
    "\n",
    " \n",
    "# creating a confusion matrix\n",
    "knn_predictions = knn.predict(X_test)\n",
    "cm = confusion_matrix(y_test, knn_predictions)\n",
    "print(cm)"
   ]
  },
  {
   "cell_type": "code",
   "execution_count": 387,
   "metadata": {},
   "outputs": [],
   "source": [
    "## define hyperparameters combinations to try\n",
    "param_dic = {\n",
    "'learning_rate':[0.15,0.1,0.05,0.01,0.005,0.001],      #weighting factor for the corrections by new trees when added to the model\n",
    "'n_estimators':[100,250,500,750,1000,1250,1500,1750],  #number of trees added to the model\n",
    "'max_depth':[2,3,4,5,6,7],    #maximum depth of the tree\n",
    "'min_samples_split':[2,4,6,8,10,20,40,60,100],    #sets the minimum number of samples to split\n",
    "'min_samples_leaf':[1,3,5,7,9],     #the minimum number of samples to form a leaf\n",
    "'max_features':[2,3,4,5,6,7],     #square root of features is usually a good starting point\n",
    "'subsample':[0.7,0.75,0.8,0.85,0.9,0.95,1]} "
   ]
  },
  {
   "cell_type": "code",
   "execution_count": 388,
   "metadata": {},
   "outputs": [
    {
     "ename": "ValueError",
     "evalue": "Invalid parameter subsample for estimator GaussianNB(). Check the list of available parameters with `estimator.get_params().keys()`.",
     "output_type": "error",
     "traceback": [
      "\u001b[0;31m---------------------------------------------------------------------------\u001b[0m",
      "\u001b[0;31mValueError\u001b[0m                                Traceback (most recent call last)",
      "\u001b[1;32m/home/marcr/Documents/itacademy/Supervisat_Classificacio/S10T01.ipynb Cell 26'\u001b[0m in \u001b[0;36m<cell line: 2>\u001b[0;34m()\u001b[0m\n\u001b[1;32m      <a href='vscode-notebook-cell:/home/marcr/Documents/itacademy/Supervisat_Classificacio/S10T01.ipynb#ch0000018?line=0'>1</a>\u001b[0m \u001b[39m## random search\u001b[39;00m\n\u001b[1;32m      <a href='vscode-notebook-cell:/home/marcr/Documents/itacademy/Supervisat_Classificacio/S10T01.ipynb#ch0000018?line=1'>2</a>\u001b[0m random_search \u001b[39m=\u001b[39m model_selection\u001b[39m.\u001b[39;49mRandomizedSearchCV(model, \n\u001b[1;32m      <a href='vscode-notebook-cell:/home/marcr/Documents/itacademy/Supervisat_Classificacio/S10T01.ipynb#ch0000018?line=2'>3</a>\u001b[0m        param_distributions\u001b[39m=\u001b[39;49mparam_dic, n_iter\u001b[39m=\u001b[39;49m\u001b[39m1000\u001b[39;49m, \n\u001b[0;32m----> <a href='vscode-notebook-cell:/home/marcr/Documents/itacademy/Supervisat_Classificacio/S10T01.ipynb#ch0000018?line=3'>4</a>\u001b[0m        scoring\u001b[39m=\u001b[39;49m\u001b[39m\"\u001b[39;49m\u001b[39maccuracy\u001b[39;49m\u001b[39m\"\u001b[39;49m)\u001b[39m.\u001b[39;49mfit(X_train, y_train)\n",
      "File \u001b[0;32m~/Documents/itacademy/Supervisat_Classificacio/.venv/lib64/python3.10/site-packages/sklearn/model_selection/_search.py:891\u001b[0m, in \u001b[0;36mBaseSearchCV.fit\u001b[0;34m(self, X, y, groups, **fit_params)\u001b[0m\n\u001b[1;32m    <a href='file:///home/marcr/Documents/itacademy/Supervisat_Classificacio/.venv/lib64/python3.10/site-packages/sklearn/model_selection/_search.py?line=884'>885</a>\u001b[0m     results \u001b[39m=\u001b[39m \u001b[39mself\u001b[39m\u001b[39m.\u001b[39m_format_results(\n\u001b[1;32m    <a href='file:///home/marcr/Documents/itacademy/Supervisat_Classificacio/.venv/lib64/python3.10/site-packages/sklearn/model_selection/_search.py?line=885'>886</a>\u001b[0m         all_candidate_params, n_splits, all_out, all_more_results\n\u001b[1;32m    <a href='file:///home/marcr/Documents/itacademy/Supervisat_Classificacio/.venv/lib64/python3.10/site-packages/sklearn/model_selection/_search.py?line=886'>887</a>\u001b[0m     )\n\u001b[1;32m    <a href='file:///home/marcr/Documents/itacademy/Supervisat_Classificacio/.venv/lib64/python3.10/site-packages/sklearn/model_selection/_search.py?line=888'>889</a>\u001b[0m     \u001b[39mreturn\u001b[39;00m results\n\u001b[0;32m--> <a href='file:///home/marcr/Documents/itacademy/Supervisat_Classificacio/.venv/lib64/python3.10/site-packages/sklearn/model_selection/_search.py?line=890'>891</a>\u001b[0m \u001b[39mself\u001b[39;49m\u001b[39m.\u001b[39;49m_run_search(evaluate_candidates)\n\u001b[1;32m    <a href='file:///home/marcr/Documents/itacademy/Supervisat_Classificacio/.venv/lib64/python3.10/site-packages/sklearn/model_selection/_search.py?line=892'>893</a>\u001b[0m \u001b[39m# multimetric is determined here because in the case of a callable\u001b[39;00m\n\u001b[1;32m    <a href='file:///home/marcr/Documents/itacademy/Supervisat_Classificacio/.venv/lib64/python3.10/site-packages/sklearn/model_selection/_search.py?line=893'>894</a>\u001b[0m \u001b[39m# self.scoring the return type is only known after calling\u001b[39;00m\n\u001b[1;32m    <a href='file:///home/marcr/Documents/itacademy/Supervisat_Classificacio/.venv/lib64/python3.10/site-packages/sklearn/model_selection/_search.py?line=894'>895</a>\u001b[0m first_test_score \u001b[39m=\u001b[39m all_out[\u001b[39m0\u001b[39m][\u001b[39m\"\u001b[39m\u001b[39mtest_scores\u001b[39m\u001b[39m\"\u001b[39m]\n",
      "File \u001b[0;32m~/Documents/itacademy/Supervisat_Classificacio/.venv/lib64/python3.10/site-packages/sklearn/model_selection/_search.py:1766\u001b[0m, in \u001b[0;36mRandomizedSearchCV._run_search\u001b[0;34m(self, evaluate_candidates)\u001b[0m\n\u001b[1;32m   <a href='file:///home/marcr/Documents/itacademy/Supervisat_Classificacio/.venv/lib64/python3.10/site-packages/sklearn/model_selection/_search.py?line=1763'>1764</a>\u001b[0m \u001b[39mdef\u001b[39;00m \u001b[39m_run_search\u001b[39m(\u001b[39mself\u001b[39m, evaluate_candidates):\n\u001b[1;32m   <a href='file:///home/marcr/Documents/itacademy/Supervisat_Classificacio/.venv/lib64/python3.10/site-packages/sklearn/model_selection/_search.py?line=1764'>1765</a>\u001b[0m     \u001b[39m\"\"\"Search n_iter candidates from param_distributions\"\"\"\u001b[39;00m\n\u001b[0;32m-> <a href='file:///home/marcr/Documents/itacademy/Supervisat_Classificacio/.venv/lib64/python3.10/site-packages/sklearn/model_selection/_search.py?line=1765'>1766</a>\u001b[0m     evaluate_candidates(\n\u001b[1;32m   <a href='file:///home/marcr/Documents/itacademy/Supervisat_Classificacio/.venv/lib64/python3.10/site-packages/sklearn/model_selection/_search.py?line=1766'>1767</a>\u001b[0m         ParameterSampler(\n\u001b[1;32m   <a href='file:///home/marcr/Documents/itacademy/Supervisat_Classificacio/.venv/lib64/python3.10/site-packages/sklearn/model_selection/_search.py?line=1767'>1768</a>\u001b[0m             \u001b[39mself\u001b[39;49m\u001b[39m.\u001b[39;49mparam_distributions, \u001b[39mself\u001b[39;49m\u001b[39m.\u001b[39;49mn_iter, random_state\u001b[39m=\u001b[39;49m\u001b[39mself\u001b[39;49m\u001b[39m.\u001b[39;49mrandom_state\n\u001b[1;32m   <a href='file:///home/marcr/Documents/itacademy/Supervisat_Classificacio/.venv/lib64/python3.10/site-packages/sklearn/model_selection/_search.py?line=1768'>1769</a>\u001b[0m         )\n\u001b[1;32m   <a href='file:///home/marcr/Documents/itacademy/Supervisat_Classificacio/.venv/lib64/python3.10/site-packages/sklearn/model_selection/_search.py?line=1769'>1770</a>\u001b[0m     )\n",
      "File \u001b[0;32m~/Documents/itacademy/Supervisat_Classificacio/.venv/lib64/python3.10/site-packages/sklearn/model_selection/_search.py:838\u001b[0m, in \u001b[0;36mBaseSearchCV.fit.<locals>.evaluate_candidates\u001b[0;34m(candidate_params, cv, more_results)\u001b[0m\n\u001b[1;32m    <a href='file:///home/marcr/Documents/itacademy/Supervisat_Classificacio/.venv/lib64/python3.10/site-packages/sklearn/model_selection/_search.py?line=829'>830</a>\u001b[0m \u001b[39mif\u001b[39;00m \u001b[39mself\u001b[39m\u001b[39m.\u001b[39mverbose \u001b[39m>\u001b[39m \u001b[39m0\u001b[39m:\n\u001b[1;32m    <a href='file:///home/marcr/Documents/itacademy/Supervisat_Classificacio/.venv/lib64/python3.10/site-packages/sklearn/model_selection/_search.py?line=830'>831</a>\u001b[0m     \u001b[39mprint\u001b[39m(\n\u001b[1;32m    <a href='file:///home/marcr/Documents/itacademy/Supervisat_Classificacio/.venv/lib64/python3.10/site-packages/sklearn/model_selection/_search.py?line=831'>832</a>\u001b[0m         \u001b[39m\"\u001b[39m\u001b[39mFitting \u001b[39m\u001b[39m{0}\u001b[39;00m\u001b[39m folds for each of \u001b[39m\u001b[39m{1}\u001b[39;00m\u001b[39m candidates,\u001b[39m\u001b[39m\"\u001b[39m\n\u001b[1;32m    <a href='file:///home/marcr/Documents/itacademy/Supervisat_Classificacio/.venv/lib64/python3.10/site-packages/sklearn/model_selection/_search.py?line=832'>833</a>\u001b[0m         \u001b[39m\"\u001b[39m\u001b[39m totalling \u001b[39m\u001b[39m{2}\u001b[39;00m\u001b[39m fits\u001b[39m\u001b[39m\"\u001b[39m\u001b[39m.\u001b[39mformat(\n\u001b[1;32m    <a href='file:///home/marcr/Documents/itacademy/Supervisat_Classificacio/.venv/lib64/python3.10/site-packages/sklearn/model_selection/_search.py?line=833'>834</a>\u001b[0m             n_splits, n_candidates, n_candidates \u001b[39m*\u001b[39m n_splits\n\u001b[1;32m    <a href='file:///home/marcr/Documents/itacademy/Supervisat_Classificacio/.venv/lib64/python3.10/site-packages/sklearn/model_selection/_search.py?line=834'>835</a>\u001b[0m         )\n\u001b[1;32m    <a href='file:///home/marcr/Documents/itacademy/Supervisat_Classificacio/.venv/lib64/python3.10/site-packages/sklearn/model_selection/_search.py?line=835'>836</a>\u001b[0m     )\n\u001b[0;32m--> <a href='file:///home/marcr/Documents/itacademy/Supervisat_Classificacio/.venv/lib64/python3.10/site-packages/sklearn/model_selection/_search.py?line=837'>838</a>\u001b[0m out \u001b[39m=\u001b[39m parallel(\n\u001b[1;32m    <a href='file:///home/marcr/Documents/itacademy/Supervisat_Classificacio/.venv/lib64/python3.10/site-packages/sklearn/model_selection/_search.py?line=838'>839</a>\u001b[0m     delayed(_fit_and_score)(\n\u001b[1;32m    <a href='file:///home/marcr/Documents/itacademy/Supervisat_Classificacio/.venv/lib64/python3.10/site-packages/sklearn/model_selection/_search.py?line=839'>840</a>\u001b[0m         clone(base_estimator),\n\u001b[1;32m    <a href='file:///home/marcr/Documents/itacademy/Supervisat_Classificacio/.venv/lib64/python3.10/site-packages/sklearn/model_selection/_search.py?line=840'>841</a>\u001b[0m         X,\n\u001b[1;32m    <a href='file:///home/marcr/Documents/itacademy/Supervisat_Classificacio/.venv/lib64/python3.10/site-packages/sklearn/model_selection/_search.py?line=841'>842</a>\u001b[0m         y,\n\u001b[1;32m    <a href='file:///home/marcr/Documents/itacademy/Supervisat_Classificacio/.venv/lib64/python3.10/site-packages/sklearn/model_selection/_search.py?line=842'>843</a>\u001b[0m         train\u001b[39m=\u001b[39;49mtrain,\n\u001b[1;32m    <a href='file:///home/marcr/Documents/itacademy/Supervisat_Classificacio/.venv/lib64/python3.10/site-packages/sklearn/model_selection/_search.py?line=843'>844</a>\u001b[0m         test\u001b[39m=\u001b[39;49mtest,\n\u001b[1;32m    <a href='file:///home/marcr/Documents/itacademy/Supervisat_Classificacio/.venv/lib64/python3.10/site-packages/sklearn/model_selection/_search.py?line=844'>845</a>\u001b[0m         parameters\u001b[39m=\u001b[39;49mparameters,\n\u001b[1;32m    <a href='file:///home/marcr/Documents/itacademy/Supervisat_Classificacio/.venv/lib64/python3.10/site-packages/sklearn/model_selection/_search.py?line=845'>846</a>\u001b[0m         split_progress\u001b[39m=\u001b[39;49m(split_idx, n_splits),\n\u001b[1;32m    <a href='file:///home/marcr/Documents/itacademy/Supervisat_Classificacio/.venv/lib64/python3.10/site-packages/sklearn/model_selection/_search.py?line=846'>847</a>\u001b[0m         candidate_progress\u001b[39m=\u001b[39;49m(cand_idx, n_candidates),\n\u001b[1;32m    <a href='file:///home/marcr/Documents/itacademy/Supervisat_Classificacio/.venv/lib64/python3.10/site-packages/sklearn/model_selection/_search.py?line=847'>848</a>\u001b[0m         \u001b[39m*\u001b[39;49m\u001b[39m*\u001b[39;49mfit_and_score_kwargs,\n\u001b[1;32m    <a href='file:///home/marcr/Documents/itacademy/Supervisat_Classificacio/.venv/lib64/python3.10/site-packages/sklearn/model_selection/_search.py?line=848'>849</a>\u001b[0m     )\n\u001b[1;32m    <a href='file:///home/marcr/Documents/itacademy/Supervisat_Classificacio/.venv/lib64/python3.10/site-packages/sklearn/model_selection/_search.py?line=849'>850</a>\u001b[0m     \u001b[39mfor\u001b[39;49;00m (cand_idx, parameters), (split_idx, (train, test)) \u001b[39min\u001b[39;49;00m product(\n\u001b[1;32m    <a href='file:///home/marcr/Documents/itacademy/Supervisat_Classificacio/.venv/lib64/python3.10/site-packages/sklearn/model_selection/_search.py?line=850'>851</a>\u001b[0m         \u001b[39menumerate\u001b[39;49m(candidate_params), \u001b[39menumerate\u001b[39;49m(cv\u001b[39m.\u001b[39;49msplit(X, y, groups))\n\u001b[1;32m    <a href='file:///home/marcr/Documents/itacademy/Supervisat_Classificacio/.venv/lib64/python3.10/site-packages/sklearn/model_selection/_search.py?line=851'>852</a>\u001b[0m     )\n\u001b[1;32m    <a href='file:///home/marcr/Documents/itacademy/Supervisat_Classificacio/.venv/lib64/python3.10/site-packages/sklearn/model_selection/_search.py?line=852'>853</a>\u001b[0m )\n\u001b[1;32m    <a href='file:///home/marcr/Documents/itacademy/Supervisat_Classificacio/.venv/lib64/python3.10/site-packages/sklearn/model_selection/_search.py?line=854'>855</a>\u001b[0m \u001b[39mif\u001b[39;00m \u001b[39mlen\u001b[39m(out) \u001b[39m<\u001b[39m \u001b[39m1\u001b[39m:\n\u001b[1;32m    <a href='file:///home/marcr/Documents/itacademy/Supervisat_Classificacio/.venv/lib64/python3.10/site-packages/sklearn/model_selection/_search.py?line=855'>856</a>\u001b[0m     \u001b[39mraise\u001b[39;00m \u001b[39mValueError\u001b[39;00m(\n\u001b[1;32m    <a href='file:///home/marcr/Documents/itacademy/Supervisat_Classificacio/.venv/lib64/python3.10/site-packages/sklearn/model_selection/_search.py?line=856'>857</a>\u001b[0m         \u001b[39m\"\u001b[39m\u001b[39mNo fits were performed. \u001b[39m\u001b[39m\"\u001b[39m\n\u001b[1;32m    <a href='file:///home/marcr/Documents/itacademy/Supervisat_Classificacio/.venv/lib64/python3.10/site-packages/sklearn/model_selection/_search.py?line=857'>858</a>\u001b[0m         \u001b[39m\"\u001b[39m\u001b[39mWas the CV iterator empty? \u001b[39m\u001b[39m\"\u001b[39m\n\u001b[1;32m    <a href='file:///home/marcr/Documents/itacademy/Supervisat_Classificacio/.venv/lib64/python3.10/site-packages/sklearn/model_selection/_search.py?line=858'>859</a>\u001b[0m         \u001b[39m\"\u001b[39m\u001b[39mWere there no candidates?\u001b[39m\u001b[39m\"\u001b[39m\n\u001b[1;32m    <a href='file:///home/marcr/Documents/itacademy/Supervisat_Classificacio/.venv/lib64/python3.10/site-packages/sklearn/model_selection/_search.py?line=859'>860</a>\u001b[0m     )\n",
      "File \u001b[0;32m~/Documents/itacademy/Supervisat_Classificacio/.venv/lib64/python3.10/site-packages/joblib/parallel.py:1043\u001b[0m, in \u001b[0;36mParallel.__call__\u001b[0;34m(self, iterable)\u001b[0m\n\u001b[1;32m   <a href='file:///home/marcr/Documents/itacademy/Supervisat_Classificacio/.venv/lib64/python3.10/site-packages/joblib/parallel.py?line=1033'>1034</a>\u001b[0m \u001b[39mtry\u001b[39;00m:\n\u001b[1;32m   <a href='file:///home/marcr/Documents/itacademy/Supervisat_Classificacio/.venv/lib64/python3.10/site-packages/joblib/parallel.py?line=1034'>1035</a>\u001b[0m     \u001b[39m# Only set self._iterating to True if at least a batch\u001b[39;00m\n\u001b[1;32m   <a href='file:///home/marcr/Documents/itacademy/Supervisat_Classificacio/.venv/lib64/python3.10/site-packages/joblib/parallel.py?line=1035'>1036</a>\u001b[0m     \u001b[39m# was dispatched. In particular this covers the edge\u001b[39;00m\n\u001b[0;32m   (...)\u001b[0m\n\u001b[1;32m   <a href='file:///home/marcr/Documents/itacademy/Supervisat_Classificacio/.venv/lib64/python3.10/site-packages/joblib/parallel.py?line=1039'>1040</a>\u001b[0m     \u001b[39m# was very quick and its callback already dispatched all the\u001b[39;00m\n\u001b[1;32m   <a href='file:///home/marcr/Documents/itacademy/Supervisat_Classificacio/.venv/lib64/python3.10/site-packages/joblib/parallel.py?line=1040'>1041</a>\u001b[0m     \u001b[39m# remaining jobs.\u001b[39;00m\n\u001b[1;32m   <a href='file:///home/marcr/Documents/itacademy/Supervisat_Classificacio/.venv/lib64/python3.10/site-packages/joblib/parallel.py?line=1041'>1042</a>\u001b[0m     \u001b[39mself\u001b[39m\u001b[39m.\u001b[39m_iterating \u001b[39m=\u001b[39m \u001b[39mFalse\u001b[39;00m\n\u001b[0;32m-> <a href='file:///home/marcr/Documents/itacademy/Supervisat_Classificacio/.venv/lib64/python3.10/site-packages/joblib/parallel.py?line=1042'>1043</a>\u001b[0m     \u001b[39mif\u001b[39;00m \u001b[39mself\u001b[39;49m\u001b[39m.\u001b[39;49mdispatch_one_batch(iterator):\n\u001b[1;32m   <a href='file:///home/marcr/Documents/itacademy/Supervisat_Classificacio/.venv/lib64/python3.10/site-packages/joblib/parallel.py?line=1043'>1044</a>\u001b[0m         \u001b[39mself\u001b[39m\u001b[39m.\u001b[39m_iterating \u001b[39m=\u001b[39m \u001b[39mself\u001b[39m\u001b[39m.\u001b[39m_original_iterator \u001b[39mis\u001b[39;00m \u001b[39mnot\u001b[39;00m \u001b[39mNone\u001b[39;00m\n\u001b[1;32m   <a href='file:///home/marcr/Documents/itacademy/Supervisat_Classificacio/.venv/lib64/python3.10/site-packages/joblib/parallel.py?line=1045'>1046</a>\u001b[0m     \u001b[39mwhile\u001b[39;00m \u001b[39mself\u001b[39m\u001b[39m.\u001b[39mdispatch_one_batch(iterator):\n",
      "File \u001b[0;32m~/Documents/itacademy/Supervisat_Classificacio/.venv/lib64/python3.10/site-packages/joblib/parallel.py:861\u001b[0m, in \u001b[0;36mParallel.dispatch_one_batch\u001b[0;34m(self, iterator)\u001b[0m\n\u001b[1;32m    <a href='file:///home/marcr/Documents/itacademy/Supervisat_Classificacio/.venv/lib64/python3.10/site-packages/joblib/parallel.py?line=858'>859</a>\u001b[0m     \u001b[39mreturn\u001b[39;00m \u001b[39mFalse\u001b[39;00m\n\u001b[1;32m    <a href='file:///home/marcr/Documents/itacademy/Supervisat_Classificacio/.venv/lib64/python3.10/site-packages/joblib/parallel.py?line=859'>860</a>\u001b[0m \u001b[39melse\u001b[39;00m:\n\u001b[0;32m--> <a href='file:///home/marcr/Documents/itacademy/Supervisat_Classificacio/.venv/lib64/python3.10/site-packages/joblib/parallel.py?line=860'>861</a>\u001b[0m     \u001b[39mself\u001b[39;49m\u001b[39m.\u001b[39;49m_dispatch(tasks)\n\u001b[1;32m    <a href='file:///home/marcr/Documents/itacademy/Supervisat_Classificacio/.venv/lib64/python3.10/site-packages/joblib/parallel.py?line=861'>862</a>\u001b[0m     \u001b[39mreturn\u001b[39;00m \u001b[39mTrue\u001b[39;00m\n",
      "File \u001b[0;32m~/Documents/itacademy/Supervisat_Classificacio/.venv/lib64/python3.10/site-packages/joblib/parallel.py:779\u001b[0m, in \u001b[0;36mParallel._dispatch\u001b[0;34m(self, batch)\u001b[0m\n\u001b[1;32m    <a href='file:///home/marcr/Documents/itacademy/Supervisat_Classificacio/.venv/lib64/python3.10/site-packages/joblib/parallel.py?line=776'>777</a>\u001b[0m \u001b[39mwith\u001b[39;00m \u001b[39mself\u001b[39m\u001b[39m.\u001b[39m_lock:\n\u001b[1;32m    <a href='file:///home/marcr/Documents/itacademy/Supervisat_Classificacio/.venv/lib64/python3.10/site-packages/joblib/parallel.py?line=777'>778</a>\u001b[0m     job_idx \u001b[39m=\u001b[39m \u001b[39mlen\u001b[39m(\u001b[39mself\u001b[39m\u001b[39m.\u001b[39m_jobs)\n\u001b[0;32m--> <a href='file:///home/marcr/Documents/itacademy/Supervisat_Classificacio/.venv/lib64/python3.10/site-packages/joblib/parallel.py?line=778'>779</a>\u001b[0m     job \u001b[39m=\u001b[39m \u001b[39mself\u001b[39;49m\u001b[39m.\u001b[39;49m_backend\u001b[39m.\u001b[39;49mapply_async(batch, callback\u001b[39m=\u001b[39;49mcb)\n\u001b[1;32m    <a href='file:///home/marcr/Documents/itacademy/Supervisat_Classificacio/.venv/lib64/python3.10/site-packages/joblib/parallel.py?line=779'>780</a>\u001b[0m     \u001b[39m# A job can complete so quickly than its callback is\u001b[39;00m\n\u001b[1;32m    <a href='file:///home/marcr/Documents/itacademy/Supervisat_Classificacio/.venv/lib64/python3.10/site-packages/joblib/parallel.py?line=780'>781</a>\u001b[0m     \u001b[39m# called before we get here, causing self._jobs to\u001b[39;00m\n\u001b[1;32m    <a href='file:///home/marcr/Documents/itacademy/Supervisat_Classificacio/.venv/lib64/python3.10/site-packages/joblib/parallel.py?line=781'>782</a>\u001b[0m     \u001b[39m# grow. To ensure correct results ordering, .insert is\u001b[39;00m\n\u001b[1;32m    <a href='file:///home/marcr/Documents/itacademy/Supervisat_Classificacio/.venv/lib64/python3.10/site-packages/joblib/parallel.py?line=782'>783</a>\u001b[0m     \u001b[39m# used (rather than .append) in the following line\u001b[39;00m\n\u001b[1;32m    <a href='file:///home/marcr/Documents/itacademy/Supervisat_Classificacio/.venv/lib64/python3.10/site-packages/joblib/parallel.py?line=783'>784</a>\u001b[0m     \u001b[39mself\u001b[39m\u001b[39m.\u001b[39m_jobs\u001b[39m.\u001b[39minsert(job_idx, job)\n",
      "File \u001b[0;32m~/Documents/itacademy/Supervisat_Classificacio/.venv/lib64/python3.10/site-packages/joblib/_parallel_backends.py:208\u001b[0m, in \u001b[0;36mSequentialBackend.apply_async\u001b[0;34m(self, func, callback)\u001b[0m\n\u001b[1;32m    <a href='file:///home/marcr/Documents/itacademy/Supervisat_Classificacio/.venv/lib64/python3.10/site-packages/joblib/_parallel_backends.py?line=205'>206</a>\u001b[0m \u001b[39mdef\u001b[39;00m \u001b[39mapply_async\u001b[39m(\u001b[39mself\u001b[39m, func, callback\u001b[39m=\u001b[39m\u001b[39mNone\u001b[39;00m):\n\u001b[1;32m    <a href='file:///home/marcr/Documents/itacademy/Supervisat_Classificacio/.venv/lib64/python3.10/site-packages/joblib/_parallel_backends.py?line=206'>207</a>\u001b[0m     \u001b[39m\"\"\"Schedule a func to be run\"\"\"\u001b[39;00m\n\u001b[0;32m--> <a href='file:///home/marcr/Documents/itacademy/Supervisat_Classificacio/.venv/lib64/python3.10/site-packages/joblib/_parallel_backends.py?line=207'>208</a>\u001b[0m     result \u001b[39m=\u001b[39m ImmediateResult(func)\n\u001b[1;32m    <a href='file:///home/marcr/Documents/itacademy/Supervisat_Classificacio/.venv/lib64/python3.10/site-packages/joblib/_parallel_backends.py?line=208'>209</a>\u001b[0m     \u001b[39mif\u001b[39;00m callback:\n\u001b[1;32m    <a href='file:///home/marcr/Documents/itacademy/Supervisat_Classificacio/.venv/lib64/python3.10/site-packages/joblib/_parallel_backends.py?line=209'>210</a>\u001b[0m         callback(result)\n",
      "File \u001b[0;32m~/Documents/itacademy/Supervisat_Classificacio/.venv/lib64/python3.10/site-packages/joblib/_parallel_backends.py:572\u001b[0m, in \u001b[0;36mImmediateResult.__init__\u001b[0;34m(self, batch)\u001b[0m\n\u001b[1;32m    <a href='file:///home/marcr/Documents/itacademy/Supervisat_Classificacio/.venv/lib64/python3.10/site-packages/joblib/_parallel_backends.py?line=568'>569</a>\u001b[0m \u001b[39mdef\u001b[39;00m \u001b[39m__init__\u001b[39m(\u001b[39mself\u001b[39m, batch):\n\u001b[1;32m    <a href='file:///home/marcr/Documents/itacademy/Supervisat_Classificacio/.venv/lib64/python3.10/site-packages/joblib/_parallel_backends.py?line=569'>570</a>\u001b[0m     \u001b[39m# Don't delay the application, to avoid keeping the input\u001b[39;00m\n\u001b[1;32m    <a href='file:///home/marcr/Documents/itacademy/Supervisat_Classificacio/.venv/lib64/python3.10/site-packages/joblib/_parallel_backends.py?line=570'>571</a>\u001b[0m     \u001b[39m# arguments in memory\u001b[39;00m\n\u001b[0;32m--> <a href='file:///home/marcr/Documents/itacademy/Supervisat_Classificacio/.venv/lib64/python3.10/site-packages/joblib/_parallel_backends.py?line=571'>572</a>\u001b[0m     \u001b[39mself\u001b[39m\u001b[39m.\u001b[39mresults \u001b[39m=\u001b[39m batch()\n",
      "File \u001b[0;32m~/Documents/itacademy/Supervisat_Classificacio/.venv/lib64/python3.10/site-packages/joblib/parallel.py:262\u001b[0m, in \u001b[0;36mBatchedCalls.__call__\u001b[0;34m(self)\u001b[0m\n\u001b[1;32m    <a href='file:///home/marcr/Documents/itacademy/Supervisat_Classificacio/.venv/lib64/python3.10/site-packages/joblib/parallel.py?line=257'>258</a>\u001b[0m \u001b[39mdef\u001b[39;00m \u001b[39m__call__\u001b[39m(\u001b[39mself\u001b[39m):\n\u001b[1;32m    <a href='file:///home/marcr/Documents/itacademy/Supervisat_Classificacio/.venv/lib64/python3.10/site-packages/joblib/parallel.py?line=258'>259</a>\u001b[0m     \u001b[39m# Set the default nested backend to self._backend but do not set the\u001b[39;00m\n\u001b[1;32m    <a href='file:///home/marcr/Documents/itacademy/Supervisat_Classificacio/.venv/lib64/python3.10/site-packages/joblib/parallel.py?line=259'>260</a>\u001b[0m     \u001b[39m# change the default number of processes to -1\u001b[39;00m\n\u001b[1;32m    <a href='file:///home/marcr/Documents/itacademy/Supervisat_Classificacio/.venv/lib64/python3.10/site-packages/joblib/parallel.py?line=260'>261</a>\u001b[0m     \u001b[39mwith\u001b[39;00m parallel_backend(\u001b[39mself\u001b[39m\u001b[39m.\u001b[39m_backend, n_jobs\u001b[39m=\u001b[39m\u001b[39mself\u001b[39m\u001b[39m.\u001b[39m_n_jobs):\n\u001b[0;32m--> <a href='file:///home/marcr/Documents/itacademy/Supervisat_Classificacio/.venv/lib64/python3.10/site-packages/joblib/parallel.py?line=261'>262</a>\u001b[0m         \u001b[39mreturn\u001b[39;00m [func(\u001b[39m*\u001b[39margs, \u001b[39m*\u001b[39m\u001b[39m*\u001b[39mkwargs)\n\u001b[1;32m    <a href='file:///home/marcr/Documents/itacademy/Supervisat_Classificacio/.venv/lib64/python3.10/site-packages/joblib/parallel.py?line=262'>263</a>\u001b[0m                 \u001b[39mfor\u001b[39;00m func, args, kwargs \u001b[39min\u001b[39;00m \u001b[39mself\u001b[39m\u001b[39m.\u001b[39mitems]\n",
      "File \u001b[0;32m~/Documents/itacademy/Supervisat_Classificacio/.venv/lib64/python3.10/site-packages/joblib/parallel.py:262\u001b[0m, in \u001b[0;36m<listcomp>\u001b[0;34m(.0)\u001b[0m\n\u001b[1;32m    <a href='file:///home/marcr/Documents/itacademy/Supervisat_Classificacio/.venv/lib64/python3.10/site-packages/joblib/parallel.py?line=257'>258</a>\u001b[0m \u001b[39mdef\u001b[39;00m \u001b[39m__call__\u001b[39m(\u001b[39mself\u001b[39m):\n\u001b[1;32m    <a href='file:///home/marcr/Documents/itacademy/Supervisat_Classificacio/.venv/lib64/python3.10/site-packages/joblib/parallel.py?line=258'>259</a>\u001b[0m     \u001b[39m# Set the default nested backend to self._backend but do not set the\u001b[39;00m\n\u001b[1;32m    <a href='file:///home/marcr/Documents/itacademy/Supervisat_Classificacio/.venv/lib64/python3.10/site-packages/joblib/parallel.py?line=259'>260</a>\u001b[0m     \u001b[39m# change the default number of processes to -1\u001b[39;00m\n\u001b[1;32m    <a href='file:///home/marcr/Documents/itacademy/Supervisat_Classificacio/.venv/lib64/python3.10/site-packages/joblib/parallel.py?line=260'>261</a>\u001b[0m     \u001b[39mwith\u001b[39;00m parallel_backend(\u001b[39mself\u001b[39m\u001b[39m.\u001b[39m_backend, n_jobs\u001b[39m=\u001b[39m\u001b[39mself\u001b[39m\u001b[39m.\u001b[39m_n_jobs):\n\u001b[0;32m--> <a href='file:///home/marcr/Documents/itacademy/Supervisat_Classificacio/.venv/lib64/python3.10/site-packages/joblib/parallel.py?line=261'>262</a>\u001b[0m         \u001b[39mreturn\u001b[39;00m [func(\u001b[39m*\u001b[39;49margs, \u001b[39m*\u001b[39;49m\u001b[39m*\u001b[39;49mkwargs)\n\u001b[1;32m    <a href='file:///home/marcr/Documents/itacademy/Supervisat_Classificacio/.venv/lib64/python3.10/site-packages/joblib/parallel.py?line=262'>263</a>\u001b[0m                 \u001b[39mfor\u001b[39;00m func, args, kwargs \u001b[39min\u001b[39;00m \u001b[39mself\u001b[39m\u001b[39m.\u001b[39mitems]\n",
      "File \u001b[0;32m~/Documents/itacademy/Supervisat_Classificacio/.venv/lib64/python3.10/site-packages/sklearn/utils/fixes.py:216\u001b[0m, in \u001b[0;36m_FuncWrapper.__call__\u001b[0;34m(self, *args, **kwargs)\u001b[0m\n\u001b[1;32m    <a href='file:///home/marcr/Documents/itacademy/Supervisat_Classificacio/.venv/lib64/python3.10/site-packages/sklearn/utils/fixes.py?line=213'>214</a>\u001b[0m \u001b[39mdef\u001b[39;00m \u001b[39m__call__\u001b[39m(\u001b[39mself\u001b[39m, \u001b[39m*\u001b[39margs, \u001b[39m*\u001b[39m\u001b[39m*\u001b[39mkwargs):\n\u001b[1;32m    <a href='file:///home/marcr/Documents/itacademy/Supervisat_Classificacio/.venv/lib64/python3.10/site-packages/sklearn/utils/fixes.py?line=214'>215</a>\u001b[0m     \u001b[39mwith\u001b[39;00m config_context(\u001b[39m*\u001b[39m\u001b[39m*\u001b[39m\u001b[39mself\u001b[39m\u001b[39m.\u001b[39mconfig):\n\u001b[0;32m--> <a href='file:///home/marcr/Documents/itacademy/Supervisat_Classificacio/.venv/lib64/python3.10/site-packages/sklearn/utils/fixes.py?line=215'>216</a>\u001b[0m         \u001b[39mreturn\u001b[39;00m \u001b[39mself\u001b[39;49m\u001b[39m.\u001b[39;49mfunction(\u001b[39m*\u001b[39;49margs, \u001b[39m*\u001b[39;49m\u001b[39m*\u001b[39;49mkwargs)\n",
      "File \u001b[0;32m~/Documents/itacademy/Supervisat_Classificacio/.venv/lib64/python3.10/site-packages/sklearn/model_selection/_validation.py:668\u001b[0m, in \u001b[0;36m_fit_and_score\u001b[0;34m(estimator, X, y, scorer, train, test, verbose, parameters, fit_params, return_train_score, return_parameters, return_n_test_samples, return_times, return_estimator, split_progress, candidate_progress, error_score)\u001b[0m\n\u001b[1;32m    <a href='file:///home/marcr/Documents/itacademy/Supervisat_Classificacio/.venv/lib64/python3.10/site-packages/sklearn/model_selection/_validation.py?line=664'>665</a>\u001b[0m     \u001b[39mfor\u001b[39;00m k, v \u001b[39min\u001b[39;00m parameters\u001b[39m.\u001b[39mitems():\n\u001b[1;32m    <a href='file:///home/marcr/Documents/itacademy/Supervisat_Classificacio/.venv/lib64/python3.10/site-packages/sklearn/model_selection/_validation.py?line=665'>666</a>\u001b[0m         cloned_parameters[k] \u001b[39m=\u001b[39m clone(v, safe\u001b[39m=\u001b[39m\u001b[39mFalse\u001b[39;00m)\n\u001b[0;32m--> <a href='file:///home/marcr/Documents/itacademy/Supervisat_Classificacio/.venv/lib64/python3.10/site-packages/sklearn/model_selection/_validation.py?line=667'>668</a>\u001b[0m     estimator \u001b[39m=\u001b[39m estimator\u001b[39m.\u001b[39;49mset_params(\u001b[39m*\u001b[39;49m\u001b[39m*\u001b[39;49mcloned_parameters)\n\u001b[1;32m    <a href='file:///home/marcr/Documents/itacademy/Supervisat_Classificacio/.venv/lib64/python3.10/site-packages/sklearn/model_selection/_validation.py?line=669'>670</a>\u001b[0m start_time \u001b[39m=\u001b[39m time\u001b[39m.\u001b[39mtime()\n\u001b[1;32m    <a href='file:///home/marcr/Documents/itacademy/Supervisat_Classificacio/.venv/lib64/python3.10/site-packages/sklearn/model_selection/_validation.py?line=671'>672</a>\u001b[0m X_train, y_train \u001b[39m=\u001b[39m _safe_split(estimator, X, y, train)\n",
      "File \u001b[0;32m~/Documents/itacademy/Supervisat_Classificacio/.venv/lib64/python3.10/site-packages/sklearn/base.py:245\u001b[0m, in \u001b[0;36mBaseEstimator.set_params\u001b[0;34m(self, **params)\u001b[0m\n\u001b[1;32m    <a href='file:///home/marcr/Documents/itacademy/Supervisat_Classificacio/.venv/lib64/python3.10/site-packages/sklearn/base.py?line=242'>243</a>\u001b[0m key, delim, sub_key \u001b[39m=\u001b[39m key\u001b[39m.\u001b[39mpartition(\u001b[39m\"\u001b[39m\u001b[39m__\u001b[39m\u001b[39m\"\u001b[39m)\n\u001b[1;32m    <a href='file:///home/marcr/Documents/itacademy/Supervisat_Classificacio/.venv/lib64/python3.10/site-packages/sklearn/base.py?line=243'>244</a>\u001b[0m \u001b[39mif\u001b[39;00m key \u001b[39mnot\u001b[39;00m \u001b[39min\u001b[39;00m valid_params:\n\u001b[0;32m--> <a href='file:///home/marcr/Documents/itacademy/Supervisat_Classificacio/.venv/lib64/python3.10/site-packages/sklearn/base.py?line=244'>245</a>\u001b[0m     \u001b[39mraise\u001b[39;00m \u001b[39mValueError\u001b[39;00m(\n\u001b[1;32m    <a href='file:///home/marcr/Documents/itacademy/Supervisat_Classificacio/.venv/lib64/python3.10/site-packages/sklearn/base.py?line=245'>246</a>\u001b[0m         \u001b[39m\"\u001b[39m\u001b[39mInvalid parameter \u001b[39m\u001b[39m%s\u001b[39;00m\u001b[39m for estimator \u001b[39m\u001b[39m%s\u001b[39;00m\u001b[39m. \u001b[39m\u001b[39m\"\u001b[39m\n\u001b[1;32m    <a href='file:///home/marcr/Documents/itacademy/Supervisat_Classificacio/.venv/lib64/python3.10/site-packages/sklearn/base.py?line=246'>247</a>\u001b[0m         \u001b[39m\"\u001b[39m\u001b[39mCheck the list of available parameters \u001b[39m\u001b[39m\"\u001b[39m\n\u001b[1;32m    <a href='file:///home/marcr/Documents/itacademy/Supervisat_Classificacio/.venv/lib64/python3.10/site-packages/sklearn/base.py?line=247'>248</a>\u001b[0m         \u001b[39m\"\u001b[39m\u001b[39mwith `estimator.get_params().keys()`.\u001b[39m\u001b[39m\"\u001b[39m \u001b[39m%\u001b[39m (key, \u001b[39mself\u001b[39m)\n\u001b[1;32m    <a href='file:///home/marcr/Documents/itacademy/Supervisat_Classificacio/.venv/lib64/python3.10/site-packages/sklearn/base.py?line=248'>249</a>\u001b[0m     )\n\u001b[1;32m    <a href='file:///home/marcr/Documents/itacademy/Supervisat_Classificacio/.venv/lib64/python3.10/site-packages/sklearn/base.py?line=250'>251</a>\u001b[0m \u001b[39mif\u001b[39;00m delim:\n\u001b[1;32m    <a href='file:///home/marcr/Documents/itacademy/Supervisat_Classificacio/.venv/lib64/python3.10/site-packages/sklearn/base.py?line=251'>252</a>\u001b[0m     nested_params[key][sub_key] \u001b[39m=\u001b[39m value\n",
      "\u001b[0;31mValueError\u001b[0m: Invalid parameter subsample for estimator GaussianNB(). Check the list of available parameters with `estimator.get_params().keys()`."
     ]
    }
   ],
   "source": [
    "## random search\n",
    "random_search = model_selection.RandomizedSearchCV(model, \n",
    "       param_distributions=param_dic, n_iter=1000, \n",
    "       scoring=\"accuracy\").fit(X_train, y_train)\n"
   ]
  },
  {
   "cell_type": "code",
   "execution_count": null,
   "metadata": {},
   "outputs": [],
   "source": [
    "print(\"Best Model parameters:\", random_search.best_params_)\n",
    "print(\"Best Model mean accuracy:\", random_search.best_score_)\n",
    "model = random_search.best_estimator_"
   ]
  },
  {
   "cell_type": "markdown",
   "metadata": {},
   "source": [
    "## Nivell 3\n",
    "\n",
    "\n",
    "### Exercici 6\n",
    "\n",
    "No utilitzis la variable DepDelay a l’hora de fer prediccions"
   ]
  }
 ],
 "metadata": {
  "interpreter": {
   "hash": "afb8defe19a69eeefc596363b1da8505aea3e7a6c660a4f5f0821418e0dc310d"
  },
  "kernelspec": {
   "display_name": "Python 3.10.2 ('.venv': venv)",
   "language": "python",
   "name": "python3"
  },
  "language_info": {
   "codemirror_mode": {
    "name": "ipython",
    "version": 3
   },
   "file_extension": ".py",
   "mimetype": "text/x-python",
   "name": "python",
   "nbconvert_exporter": "python",
   "pygments_lexer": "ipython3",
   "version": "3.10.3"
  },
  "orig_nbformat": 4
 },
 "nbformat": 4,
 "nbformat_minor": 2
}
