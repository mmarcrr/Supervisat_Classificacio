{
 "cells": [
  {
   "cell_type": "markdown",
   "metadata": {},
   "source": [
    "# Descripció\n",
    "\n",
    "Anem a practicar i a familiaritzar-nos amb algoritmes de classificació.\n",
    "## Nivell 1\n",
    "\n",
    "\n",
    "### Exercici 1\n",
    "\n",
    "Crea almenys tres models de classificació diferents per intentar predir el millor possible l’endarreriment dels vols (ArrDelay) de DelayedFlights.csv. Considera si el vol ha arribat tard o no (ArrDelay > 0).\n",
    "\n",
    "### Exercici 2\n",
    "\n",
    "Compara els models de classificació utilitzant la precisió (accuracy), una matriu de confiança i d’altres mètriques més avançades.\n",
    "\n",
    "### Exercici 3\n",
    "\n",
    "Entrena’ls utilitzant els diferents paràmetres que admeten.\n",
    "\n",
    "### Exercici 4\n",
    "\n",
    "Compara el seu rendiment utilitzant l’aproximació traint/test o cross-validation.\n"
   ]
  },
  {
   "cell_type": "markdown",
   "metadata": {},
   "source": [
    "## Nivell 2\n",
    "\n",
    "### Exercici 5\n",
    "\n",
    "Realitza algun procés d’enginyeria de variables per millorar-ne la predicció\n"
   ]
  },
  {
   "cell_type": "code",
   "execution_count": 2,
   "metadata": {},
   "outputs": [],
   "source": [
    "# Load libraries\n",
    "import pandas as pd\n",
    "from sklearn.tree import DecisionTreeClassifier # Import Decision Tree Classifier\n",
    "from sklearn.model_selection import train_test_split # Import train_test_split function\n",
    "from sklearn import metrics #Import scikit-learn metrics module for accuracy calculation\n",
    "from sklearn.preprocessing import StandardScaler\n",
    "from sklearn.naive_bayes import GaussianNB\n",
    "import seaborn as sn\n",
    "from sklearn.model_selection import GridSearchCV\n",
    "from sklearn.neighbors import KNeighborsClassifier\n",
    "from sklearn.ensemble import RandomForestClassifier\n",
    "from sklearn import model_selection, preprocessing, feature_selection, ensemble, linear_model, metrics, decomposition\n",
    "import matplotlib.pyplot as plt\n",
    "from sklearn.model_selection import cross_val_score\n",
    "from sklearn.metrics import confusion_matrix, accuracy_score\n",
    "from sklearn.svm import SVC\n",
    "from sklearn.model_selection import cross_validate\n",
    "from sklearn.datasets import make_classification\n",
    "from imblearn.combine import SMOTETomek \n",
    "from imblearn.under_sampling import TomekLinks\n",
    "from imblearn.pipeline import Pipeline\n",
    "from sklearn.model_selection import RepeatedStratifiedKFold\n",
    "import numpy as np\n",
    "from imblearn.over_sampling import RandomOverSampler\n",
    "from collections import Counter\n"
   ]
  },
  {
   "cell_type": "code",
   "execution_count": 3,
   "metadata": {},
   "outputs": [
    {
     "data": {
      "text/html": [
       "<div>\n",
       "<style scoped>\n",
       "    .dataframe tbody tr th:only-of-type {\n",
       "        vertical-align: middle;\n",
       "    }\n",
       "\n",
       "    .dataframe tbody tr th {\n",
       "        vertical-align: top;\n",
       "    }\n",
       "\n",
       "    .dataframe thead th {\n",
       "        text-align: right;\n",
       "    }\n",
       "</style>\n",
       "<table border=\"1\" class=\"dataframe\">\n",
       "  <thead>\n",
       "    <tr style=\"text-align: right;\">\n",
       "      <th></th>\n",
       "      <th>Year</th>\n",
       "      <th>Month</th>\n",
       "      <th>DayofMonth</th>\n",
       "      <th>DayOfWeek</th>\n",
       "      <th>DepTime</th>\n",
       "      <th>CRSDepTime</th>\n",
       "      <th>ArrTime</th>\n",
       "      <th>CRSArrTime</th>\n",
       "      <th>UniqueCarrier</th>\n",
       "      <th>FlightNum</th>\n",
       "      <th>...</th>\n",
       "      <th>TaxiIn</th>\n",
       "      <th>TaxiOut</th>\n",
       "      <th>Cancelled</th>\n",
       "      <th>CancellationCode</th>\n",
       "      <th>Diverted</th>\n",
       "      <th>CarrierDelay</th>\n",
       "      <th>WeatherDelay</th>\n",
       "      <th>NASDelay</th>\n",
       "      <th>SecurityDelay</th>\n",
       "      <th>LateAircraftDelay</th>\n",
       "    </tr>\n",
       "  </thead>\n",
       "  <tbody>\n",
       "    <tr>\n",
       "      <th>0</th>\n",
       "      <td>2008</td>\n",
       "      <td>1</td>\n",
       "      <td>3</td>\n",
       "      <td>4</td>\n",
       "      <td>2003.0</td>\n",
       "      <td>1955</td>\n",
       "      <td>2211.0</td>\n",
       "      <td>2225</td>\n",
       "      <td>WN</td>\n",
       "      <td>335</td>\n",
       "      <td>...</td>\n",
       "      <td>4.0</td>\n",
       "      <td>8.0</td>\n",
       "      <td>0</td>\n",
       "      <td>N</td>\n",
       "      <td>0</td>\n",
       "      <td>NaN</td>\n",
       "      <td>NaN</td>\n",
       "      <td>NaN</td>\n",
       "      <td>NaN</td>\n",
       "      <td>NaN</td>\n",
       "    </tr>\n",
       "    <tr>\n",
       "      <th>1</th>\n",
       "      <td>2008</td>\n",
       "      <td>1</td>\n",
       "      <td>3</td>\n",
       "      <td>4</td>\n",
       "      <td>754.0</td>\n",
       "      <td>735</td>\n",
       "      <td>1002.0</td>\n",
       "      <td>1000</td>\n",
       "      <td>WN</td>\n",
       "      <td>3231</td>\n",
       "      <td>...</td>\n",
       "      <td>5.0</td>\n",
       "      <td>10.0</td>\n",
       "      <td>0</td>\n",
       "      <td>N</td>\n",
       "      <td>0</td>\n",
       "      <td>NaN</td>\n",
       "      <td>NaN</td>\n",
       "      <td>NaN</td>\n",
       "      <td>NaN</td>\n",
       "      <td>NaN</td>\n",
       "    </tr>\n",
       "    <tr>\n",
       "      <th>2</th>\n",
       "      <td>2008</td>\n",
       "      <td>1</td>\n",
       "      <td>3</td>\n",
       "      <td>4</td>\n",
       "      <td>628.0</td>\n",
       "      <td>620</td>\n",
       "      <td>804.0</td>\n",
       "      <td>750</td>\n",
       "      <td>WN</td>\n",
       "      <td>448</td>\n",
       "      <td>...</td>\n",
       "      <td>3.0</td>\n",
       "      <td>17.0</td>\n",
       "      <td>0</td>\n",
       "      <td>N</td>\n",
       "      <td>0</td>\n",
       "      <td>NaN</td>\n",
       "      <td>NaN</td>\n",
       "      <td>NaN</td>\n",
       "      <td>NaN</td>\n",
       "      <td>NaN</td>\n",
       "    </tr>\n",
       "    <tr>\n",
       "      <th>4</th>\n",
       "      <td>2008</td>\n",
       "      <td>1</td>\n",
       "      <td>3</td>\n",
       "      <td>4</td>\n",
       "      <td>1829.0</td>\n",
       "      <td>1755</td>\n",
       "      <td>1959.0</td>\n",
       "      <td>1925</td>\n",
       "      <td>WN</td>\n",
       "      <td>3920</td>\n",
       "      <td>...</td>\n",
       "      <td>3.0</td>\n",
       "      <td>10.0</td>\n",
       "      <td>0</td>\n",
       "      <td>N</td>\n",
       "      <td>0</td>\n",
       "      <td>2.0</td>\n",
       "      <td>0.0</td>\n",
       "      <td>0.0</td>\n",
       "      <td>0.0</td>\n",
       "      <td>32.0</td>\n",
       "    </tr>\n",
       "    <tr>\n",
       "      <th>5</th>\n",
       "      <td>2008</td>\n",
       "      <td>1</td>\n",
       "      <td>3</td>\n",
       "      <td>4</td>\n",
       "      <td>1940.0</td>\n",
       "      <td>1915</td>\n",
       "      <td>2121.0</td>\n",
       "      <td>2110</td>\n",
       "      <td>WN</td>\n",
       "      <td>378</td>\n",
       "      <td>...</td>\n",
       "      <td>4.0</td>\n",
       "      <td>10.0</td>\n",
       "      <td>0</td>\n",
       "      <td>N</td>\n",
       "      <td>0</td>\n",
       "      <td>NaN</td>\n",
       "      <td>NaN</td>\n",
       "      <td>NaN</td>\n",
       "      <td>NaN</td>\n",
       "      <td>NaN</td>\n",
       "    </tr>\n",
       "  </tbody>\n",
       "</table>\n",
       "<p>5 rows × 29 columns</p>\n",
       "</div>"
      ],
      "text/plain": [
       "   Year  Month  DayofMonth  DayOfWeek  DepTime  CRSDepTime  ArrTime  \\\n",
       "0  2008      1           3          4   2003.0        1955   2211.0   \n",
       "1  2008      1           3          4    754.0         735   1002.0   \n",
       "2  2008      1           3          4    628.0         620    804.0   \n",
       "4  2008      1           3          4   1829.0        1755   1959.0   \n",
       "5  2008      1           3          4   1940.0        1915   2121.0   \n",
       "\n",
       "   CRSArrTime UniqueCarrier  FlightNum  ... TaxiIn  TaxiOut  Cancelled  \\\n",
       "0        2225            WN        335  ...    4.0      8.0          0   \n",
       "1        1000            WN       3231  ...    5.0     10.0          0   \n",
       "2         750            WN        448  ...    3.0     17.0          0   \n",
       "4        1925            WN       3920  ...    3.0     10.0          0   \n",
       "5        2110            WN        378  ...    4.0     10.0          0   \n",
       "\n",
       "   CancellationCode  Diverted  CarrierDelay WeatherDelay NASDelay  \\\n",
       "0                 N         0           NaN          NaN      NaN   \n",
       "1                 N         0           NaN          NaN      NaN   \n",
       "2                 N         0           NaN          NaN      NaN   \n",
       "4                 N         0           2.0          0.0      0.0   \n",
       "5                 N         0           NaN          NaN      NaN   \n",
       "\n",
       "   SecurityDelay  LateAircraftDelay  \n",
       "0            NaN                NaN  \n",
       "1            NaN                NaN  \n",
       "2            NaN                NaN  \n",
       "4            0.0               32.0  \n",
       "5            NaN                NaN  \n",
       "\n",
       "[5 rows x 29 columns]"
      ]
     },
     "execution_count": 3,
     "metadata": {},
     "output_type": "execute_result"
    }
   ],
   "source": [
    "file=\"DelayedFlights.csv\"\n",
    "df = pd.read_csv(file,low_memory=False,index_col=0)\n",
    "df.head()"
   ]
  },
  {
   "cell_type": "code",
   "execution_count": 4,
   "metadata": {},
   "outputs": [],
   "source": [
    "df=df.sample(n=8000)"
   ]
  },
  {
   "cell_type": "code",
   "execution_count": 5,
   "metadata": {},
   "outputs": [],
   "source": [
    "df['Delayed'] = df['ArrDelay'] > 0"
   ]
  },
  {
   "cell_type": "code",
   "execution_count": 6,
   "metadata": {},
   "outputs": [
    {
     "data": {
      "text/plain": [
       "True     7114\n",
       "False     886\n",
       "Name: Delayed, dtype: int64"
      ]
     },
     "execution_count": 6,
     "metadata": {},
     "output_type": "execute_result"
    }
   ],
   "source": [
    "df['Delayed'].value_counts()"
   ]
  },
  {
   "cell_type": "code",
   "execution_count": 7,
   "metadata": {},
   "outputs": [
    {
     "data": {
      "text/plain": [
       "True     7114\n",
       "False     886\n",
       "Name: Delayed, dtype: int64"
      ]
     },
     "execution_count": 7,
     "metadata": {},
     "output_type": "execute_result"
    }
   ],
   "source": [
    "df.drop(['Year','Month','DayofMonth','DayOfWeek','TailNum','Cancelled', 'CancellationCode', 'Diverted', 'UniqueCarrier', 'Origin', 'Dest','ArrDelay'], axis=1, inplace=True) \n",
    "#df.dropna(inplace=True) \n",
    "df['Delayed'].value_counts()"
   ]
  },
  {
   "cell_type": "code",
   "execution_count": 8,
   "metadata": {},
   "outputs": [
    {
     "data": {
      "text/plain": [
       "True     7114\n",
       "False     855\n",
       "Name: Delayed, dtype: int64"
      ]
     },
     "execution_count": 8,
     "metadata": {},
     "output_type": "execute_result"
    }
   ],
   "source": [
    "df['CarrierDelay'] = df['CarrierDelay'].fillna(0)\n",
    "df['WeatherDelay'] = df['WeatherDelay'].fillna(0)\n",
    "df['NASDelay'] = df['NASDelay'].fillna(0)\n",
    "df['SecurityDelay'] = df['SecurityDelay'].fillna(0)\n",
    "df['LateAircraftDelay'] = df['LateAircraftDelay'].fillna(0)\n",
    "df.dropna(inplace=True) \n",
    "df['Delayed'].value_counts()"
   ]
  },
  {
   "cell_type": "code",
   "execution_count": 9,
   "metadata": {},
   "outputs": [],
   "source": [
    "X=df.drop(['Delayed'],axis=1) #dataset\n",
    "y=df['Delayed']"
   ]
  },
  {
   "cell_type": "code",
   "execution_count": 10,
   "metadata": {},
   "outputs": [
    {
     "data": {
      "text/plain": [
       "True     7114\n",
       "False     855\n",
       "Name: Delayed, dtype: int64"
      ]
     },
     "execution_count": 10,
     "metadata": {},
     "output_type": "execute_result"
    }
   ],
   "source": [
    "y.value_counts()"
   ]
  },
  {
   "cell_type": "code",
   "execution_count": 11,
   "metadata": {},
   "outputs": [],
   "source": [
    "X_train, X_test, y_train, y_test = train_test_split(X, y, test_size=0.33)"
   ]
  },
  {
   "cell_type": "code",
   "execution_count": 12,
   "metadata": {},
   "outputs": [],
   "source": [
    "def evaluate_model(model_classifier,X,y,y_test,y_train,X_test,X_train):\n",
    "    print(\"Train Accuracy :\", accuracy_score(y_train, model_classifier.predict(X_train)))\n",
    "    print(\"Train Confusion Matrix:\")\n",
    "    print(confusion_matrix(y_train, model_classifier.predict(X_train)))\n",
    "    confusion_matrix_R = pd.crosstab(y_train, model_classifier.predict(X_train), rownames=['Actual'], colnames=['Predicted'])\n",
    "    sn.heatmap(confusion_matrix_R, annot=True)\n",
    "    plt.show()\n",
    "    print(\"-\"*50)\n",
    "    print(\"Test Accuracy :\", accuracy_score(y_test, model_classifier.predict(X_test)))\n",
    "    print(\"Test Confusion Matrix:\")\n",
    "    print(confusion_matrix(y_test, model_classifier.predict(X_test)))\n",
    "    confusion_matrix_R = pd.crosstab(y_test, model_classifier.predict(X_test), rownames=['Actual'], colnames=['Predicted'])\n",
    "    sn.heatmap(confusion_matrix_R, annot=True)\n",
    "    plt.show()\n",
    "    scores=cross_val_score(model_classifier, X, y, cv=5, scoring='f1_macro')\n",
    "    print(\"Media de cross_validation\", scores.mean())"
   ]
  },
  {
   "cell_type": "code",
   "execution_count": 47,
   "metadata": {},
   "outputs": [],
   "source": [
    "#Escalat de les dades\n",
    "scaler = StandardScaler()\n",
    "scaler.fit(X_train)\n",
    "X_train = scaler.transform(X_train)\n",
    "X_test = scaler.transform(X_test)"
   ]
  },
  {
   "cell_type": "code",
   "execution_count": 48,
   "metadata": {},
   "outputs": [],
   "source": [
    "\n",
    "params = {\n",
    "    'max_depth': [2, 3, 5, 10, 20],\n",
    "    'min_samples_leaf': [5, 10, 20, 50, 100],\n",
    "    'criterion': [\"gini\", \"entropy\"]\n",
    "}\n"
   ]
  },
  {
   "cell_type": "code",
   "execution_count": 49,
   "metadata": {},
   "outputs": [
    {
     "name": "stdout",
     "output_type": "stream",
     "text": [
      "Fitting 4 folds for each of 50 candidates, totalling 200 fits\n",
      "Precisió arbre classificació  criteri gini: 1.0\n"
     ]
    }
   ],
   "source": [
    "clf = DecisionTreeClassifier(max_depth=4)\n",
    "# Train Decision Tree Classifer\n",
    "\n",
    "# Instantiate the grid search model\n",
    "grid_search = GridSearchCV(estimator=clf, \n",
    "                           param_grid=params, \n",
    "                           cv=4, n_jobs=-1, verbose=1, scoring = \"accuracy\")\n",
    "\n",
    "clf = grid_search.fit(X_train,y_train)\n",
    "#Predict the response for test dataset\n",
    "y_pred = clf.predict(X_test)\n",
    "# Model Accuracy, how often is the classifier correct?\n",
    "print(\"Precisió arbre classificació  criteri gini:\",metrics.accuracy_score(y_test, y_pred))"
   ]
  },
  {
   "cell_type": "code",
   "execution_count": 50,
   "metadata": {},
   "outputs": [
    {
     "data": {
      "text/html": [
       "<div>\n",
       "<style scoped>\n",
       "    .dataframe tbody tr th:only-of-type {\n",
       "        vertical-align: middle;\n",
       "    }\n",
       "\n",
       "    .dataframe tbody tr th {\n",
       "        vertical-align: top;\n",
       "    }\n",
       "\n",
       "    .dataframe thead th {\n",
       "        text-align: right;\n",
       "    }\n",
       "</style>\n",
       "<table border=\"1\" class=\"dataframe\">\n",
       "  <thead>\n",
       "    <tr style=\"text-align: right;\">\n",
       "      <th></th>\n",
       "      <th>mean_fit_time</th>\n",
       "      <th>std_fit_time</th>\n",
       "      <th>mean_score_time</th>\n",
       "      <th>std_score_time</th>\n",
       "      <th>param_criterion</th>\n",
       "      <th>param_max_depth</th>\n",
       "      <th>param_min_samples_leaf</th>\n",
       "      <th>params</th>\n",
       "      <th>split0_test_score</th>\n",
       "      <th>split1_test_score</th>\n",
       "      <th>split2_test_score</th>\n",
       "      <th>split3_test_score</th>\n",
       "      <th>mean_test_score</th>\n",
       "      <th>std_test_score</th>\n",
       "      <th>rank_test_score</th>\n",
       "    </tr>\n",
       "  </thead>\n",
       "  <tbody>\n",
       "    <tr>\n",
       "      <th>0</th>\n",
       "      <td>0.007464</td>\n",
       "      <td>0.000301</td>\n",
       "      <td>0.001119</td>\n",
       "      <td>0.000067</td>\n",
       "      <td>gini</td>\n",
       "      <td>2</td>\n",
       "      <td>5</td>\n",
       "      <td>{'criterion': 'gini', 'max_depth': 2, 'min_sam...</td>\n",
       "      <td>1.0</td>\n",
       "      <td>1.0</td>\n",
       "      <td>1.0</td>\n",
       "      <td>1.0</td>\n",
       "      <td>1.0</td>\n",
       "      <td>0.0</td>\n",
       "      <td>1</td>\n",
       "    </tr>\n",
       "    <tr>\n",
       "      <th>1</th>\n",
       "      <td>0.008086</td>\n",
       "      <td>0.001750</td>\n",
       "      <td>0.001175</td>\n",
       "      <td>0.000207</td>\n",
       "      <td>gini</td>\n",
       "      <td>2</td>\n",
       "      <td>10</td>\n",
       "      <td>{'criterion': 'gini', 'max_depth': 2, 'min_sam...</td>\n",
       "      <td>1.0</td>\n",
       "      <td>1.0</td>\n",
       "      <td>1.0</td>\n",
       "      <td>1.0</td>\n",
       "      <td>1.0</td>\n",
       "      <td>0.0</td>\n",
       "      <td>1</td>\n",
       "    </tr>\n",
       "    <tr>\n",
       "      <th>2</th>\n",
       "      <td>0.007331</td>\n",
       "      <td>0.000822</td>\n",
       "      <td>0.001144</td>\n",
       "      <td>0.000111</td>\n",
       "      <td>gini</td>\n",
       "      <td>2</td>\n",
       "      <td>20</td>\n",
       "      <td>{'criterion': 'gini', 'max_depth': 2, 'min_sam...</td>\n",
       "      <td>1.0</td>\n",
       "      <td>1.0</td>\n",
       "      <td>1.0</td>\n",
       "      <td>1.0</td>\n",
       "      <td>1.0</td>\n",
       "      <td>0.0</td>\n",
       "      <td>1</td>\n",
       "    </tr>\n",
       "    <tr>\n",
       "      <th>3</th>\n",
       "      <td>0.005927</td>\n",
       "      <td>0.000492</td>\n",
       "      <td>0.001338</td>\n",
       "      <td>0.000131</td>\n",
       "      <td>gini</td>\n",
       "      <td>2</td>\n",
       "      <td>50</td>\n",
       "      <td>{'criterion': 'gini', 'max_depth': 2, 'min_sam...</td>\n",
       "      <td>1.0</td>\n",
       "      <td>1.0</td>\n",
       "      <td>1.0</td>\n",
       "      <td>1.0</td>\n",
       "      <td>1.0</td>\n",
       "      <td>0.0</td>\n",
       "      <td>1</td>\n",
       "    </tr>\n",
       "    <tr>\n",
       "      <th>4</th>\n",
       "      <td>0.007154</td>\n",
       "      <td>0.000323</td>\n",
       "      <td>0.001358</td>\n",
       "      <td>0.000197</td>\n",
       "      <td>gini</td>\n",
       "      <td>2</td>\n",
       "      <td>100</td>\n",
       "      <td>{'criterion': 'gini', 'max_depth': 2, 'min_sam...</td>\n",
       "      <td>1.0</td>\n",
       "      <td>1.0</td>\n",
       "      <td>1.0</td>\n",
       "      <td>1.0</td>\n",
       "      <td>1.0</td>\n",
       "      <td>0.0</td>\n",
       "      <td>1</td>\n",
       "    </tr>\n",
       "  </tbody>\n",
       "</table>\n",
       "</div>"
      ],
      "text/plain": [
       "   mean_fit_time  std_fit_time  mean_score_time  std_score_time  \\\n",
       "0       0.007464      0.000301         0.001119        0.000067   \n",
       "1       0.008086      0.001750         0.001175        0.000207   \n",
       "2       0.007331      0.000822         0.001144        0.000111   \n",
       "3       0.005927      0.000492         0.001338        0.000131   \n",
       "4       0.007154      0.000323         0.001358        0.000197   \n",
       "\n",
       "  param_criterion param_max_depth param_min_samples_leaf  \\\n",
       "0            gini               2                      5   \n",
       "1            gini               2                     10   \n",
       "2            gini               2                     20   \n",
       "3            gini               2                     50   \n",
       "4            gini               2                    100   \n",
       "\n",
       "                                              params  split0_test_score  \\\n",
       "0  {'criterion': 'gini', 'max_depth': 2, 'min_sam...                1.0   \n",
       "1  {'criterion': 'gini', 'max_depth': 2, 'min_sam...                1.0   \n",
       "2  {'criterion': 'gini', 'max_depth': 2, 'min_sam...                1.0   \n",
       "3  {'criterion': 'gini', 'max_depth': 2, 'min_sam...                1.0   \n",
       "4  {'criterion': 'gini', 'max_depth': 2, 'min_sam...                1.0   \n",
       "\n",
       "   split1_test_score  split2_test_score  split3_test_score  mean_test_score  \\\n",
       "0                1.0                1.0                1.0              1.0   \n",
       "1                1.0                1.0                1.0              1.0   \n",
       "2                1.0                1.0                1.0              1.0   \n",
       "3                1.0                1.0                1.0              1.0   \n",
       "4                1.0                1.0                1.0              1.0   \n",
       "\n",
       "   std_test_score  rank_test_score  \n",
       "0             0.0                1  \n",
       "1             0.0                1  \n",
       "2             0.0                1  \n",
       "3             0.0                1  \n",
       "4             0.0                1  "
      ]
     },
     "execution_count": 50,
     "metadata": {},
     "output_type": "execute_result"
    }
   ],
   "source": [
    "score_df = pd.DataFrame(grid_search.cv_results_)\n",
    "score_df.head()"
   ]
  },
  {
   "cell_type": "code",
   "execution_count": 51,
   "metadata": {},
   "outputs": [
    {
     "data": {
      "text/plain": [
       "DecisionTreeClassifier(max_depth=2, min_samples_leaf=5)"
      ]
     },
     "execution_count": 51,
     "metadata": {},
     "output_type": "execute_result"
    }
   ],
   "source": [
    "grid_search.best_estimator_"
   ]
  },
  {
   "cell_type": "code",
   "execution_count": 52,
   "metadata": {},
   "outputs": [
    {
     "name": "stdout",
     "output_type": "stream",
     "text": [
      "Train Accuracy : 1.0\n",
      "Train Confusion Matrix:\n",
      "[[ 561    0]\n",
      " [   0 4779]]\n"
     ]
    },
    {
     "data": {
      "image/png": "[encoded data removed]",
      "text/plain": [
       "<Figure size 432x288 with 2 Axes>"
      ]
     },
     "metadata": {
      "needs_background": "light"
     },
     "output_type": "display_data"
    },
    {
     "name": "stdout",
     "output_type": "stream",
     "text": [
      "--------------------------------------------------\n",
      "Test Accuracy : 1.0\n",
      "Test Confusion Matrix:\n",
      "[[ 267    0]\n",
      " [   0 2364]]\n"
     ]
    },
    {
     "data": {
      "image/png": "[encoded data removed]",
      "text/plain": [
       "<Figure size 432x288 with 2 Axes>"
      ]
     },
     "metadata": {
      "needs_background": "light"
     },
     "output_type": "display_data"
    },
    {
     "name": "stdout",
     "output_type": "stream",
     "text": [
      "Media de cross_validation 1.0\n"
     ]
    }
   ],
   "source": [
    "model_best = grid_search.best_estimator_\n",
    "evaluate_model(model_best,X,y,y_test,y_train,X_test,X_train)"
   ]
  },
  {
   "cell_type": "code",
   "execution_count": 53,
   "metadata": {},
   "outputs": [
    {
     "name": "stdout",
     "output_type": "stream",
     "text": [
      "Metrica del modelo 1.0\n",
      "Media de cross_validation 1.0\n"
     ]
    }
   ],
   "source": [
    "# Inicializar nosso classificador\n",
    "gnb = GaussianNB()\n",
    "# Treinar nosso classificador\n",
    "model = gnb.fit(X_train, y_train)\n",
    "# Fazer previsões\n",
    "preds = gnb.predict(X_test)\n",
    "\n",
    "score = model.score(X_train,y_train)\n",
    "print(\"Metrica del modelo\", score)\n",
    " \n",
    "scores=cross_val_score(model, X, y, cv=5, scoring='f1_macro')\n",
    "print(\"Media de cross_validation\", scores.mean())\n"
   ]
  },
  {
   "cell_type": "code",
   "execution_count": 54,
   "metadata": {},
   "outputs": [
    {
     "name": "stdout",
     "output_type": "stream",
     "text": [
      "KNeighborsClassifier(leaf_size=1, n_neighbors=1)\n",
      "KNeighborsClassifier(leaf_size=1, n_neighbors=1)\n",
      "Train Accuracy : 1.0\n",
      "Train Confusion Matrix:\n",
      "[[ 561    0]\n",
      " [   0 4779]]\n"
     ]
    },
    {
     "data": {
      "image/png": "[encoded data removed]",
      "text/plain": [
       "<Figure size 432x288 with 2 Axes>"
      ]
     },
     "metadata": {
      "needs_background": "light"
     },
     "output_type": "display_data"
    },
    {
     "name": "stdout",
     "output_type": "stream",
     "text": [
      "--------------------------------------------------\n",
      "Test Accuracy : 1.0\n",
      "Test Confusion Matrix:\n",
      "[[ 267    0]\n",
      " [   0 2364]]\n"
     ]
    },
    {
     "data": {
      "image/png": "[encoded data removed]",
      "text/plain": [
       "<Figure size 432x288 with 2 Axes>"
      ]
     },
     "metadata": {
      "needs_background": "light"
     },
     "output_type": "display_data"
    },
    {
     "name": "stdout",
     "output_type": "stream",
     "text": [
      "Media de cross_validation 1.0\n"
     ]
    }
   ],
   "source": [
    "\n",
    "\n",
    "parameters = dict(leaf_size= list(range(1,50)), n_neighbors=list(range(1,30)), p=[1,2])\n",
    "\n",
    "knn_classifier = KNeighborsClassifier()\n",
    "\n",
    "grid_search = GridSearchCV(knn_classifier, parameters, cv=10)\n",
    "\n",
    "best_model = grid_search.fit(X_train,y_train)\n",
    "print(grid_search.best_estimator_)\n",
    "\n",
    "kmodel_best = grid_search.best_estimator_\n",
    "\n",
    "print(kmodel_best)\n",
    "\n",
    "evaluate_model(model_best,X,y,y_test,y_train,X_test,X_train)\n"
   ]
  },
  {
   "cell_type": "markdown",
   "metadata": {},
   "source": [
    "Estandarizamos los valores para mejorar la predicion Ejercicio 2"
   ]
  },
  {
   "cell_type": "code",
   "execution_count": 55,
   "metadata": {},
   "outputs": [],
   "source": [
    "sc = StandardScaler()\n",
    "X_std = sc.fit_transform(X)\n"
   ]
  },
  {
   "cell_type": "code",
   "execution_count": 56,
   "metadata": {},
   "outputs": [
    {
     "name": "stdout",
     "output_type": "stream",
     "text": [
      "Fitting 5 folds for each of 50 candidates, totalling 250 fits\n",
      "[CV 1/5] END ........C=0.1, gamma=1, kernel=rbf;, score=0.938 total time=   0.8s\n",
      "[CV 2/5] END ........C=0.1, gamma=1, kernel=rbf;, score=0.937 total time=   0.7s\n",
      "[CV 3/5] END ........C=0.1, gamma=1, kernel=rbf;, score=0.941 total time=   0.7s\n",
      "[CV 4/5] END ........C=0.1, gamma=1, kernel=rbf;, score=0.946 total time=   0.7s\n",
      "[CV 5/5] END ........C=0.1, gamma=1, kernel=rbf;, score=0.934 total time=   0.7s\n",
      "[CV 1/5] END .....C=0.1, gamma=1, kernel=linear;, score=1.000 total time=   0.0s\n",
      "[CV 2/5] END .....C=0.1, gamma=1, kernel=linear;, score=1.000 total time=   0.0s\n",
      "[CV 3/5] END .....C=0.1, gamma=1, kernel=linear;, score=1.000 total time=   0.0s\n",
      "[CV 4/5] END .....C=0.1, gamma=1, kernel=linear;, score=1.000 total time=   0.0s\n",
      "[CV 5/5] END .....C=0.1, gamma=1, kernel=linear;, score=1.000 total time=   0.0s\n",
      "[CV 1/5] END ......C=0.1, gamma=0.1, kernel=rbf;, score=0.995 total time=   0.1s\n",
      "[CV 2/5] END ......C=0.1, gamma=0.1, kernel=rbf;, score=0.997 total time=   0.1s\n",
      "[CV 3/5] END ......C=0.1, gamma=0.1, kernel=rbf;, score=0.998 total time=   0.1s\n",
      "[CV 4/5] END ......C=0.1, gamma=0.1, kernel=rbf;, score=0.997 total time=   0.1s\n",
      "[CV 5/5] END ......C=0.1, gamma=0.1, kernel=rbf;, score=0.996 total time=   0.1s\n",
      "[CV 1/5] END ...C=0.1, gamma=0.1, kernel=linear;, score=1.000 total time=   0.0s\n",
      "[CV 2/5] END ...C=0.1, gamma=0.1, kernel=linear;, score=1.000 total time=   0.0s\n",
      "[CV 3/5] END ...C=0.1, gamma=0.1, kernel=linear;, score=1.000 total time=   0.0s\n",
      "[CV 4/5] END ...C=0.1, gamma=0.1, kernel=linear;, score=1.000 total time=   0.0s\n",
      "[CV 5/5] END ...C=0.1, gamma=0.1, kernel=linear;, score=1.000 total time=   0.0s\n",
      "[CV 1/5] END .....C=0.1, gamma=0.01, kernel=rbf;, score=1.000 total time=   0.1s\n",
      "[CV 2/5] END .....C=0.1, gamma=0.01, kernel=rbf;, score=1.000 total time=   0.1s\n",
      "[CV 3/5] END .....C=0.1, gamma=0.01, kernel=rbf;, score=1.000 total time=   0.1s\n",
      "[CV 4/5] END .....C=0.1, gamma=0.01, kernel=rbf;, score=1.000 total time=   0.1s\n",
      "[CV 5/5] END .....C=0.1, gamma=0.01, kernel=rbf;, score=1.000 total time=   0.1s\n",
      "[CV 1/5] END ..C=0.1, gamma=0.01, kernel=linear;, score=1.000 total time=   0.0s\n",
      "[CV 2/5] END ..C=0.1, gamma=0.01, kernel=linear;, score=1.000 total time=   0.0s\n",
      "[CV 3/5] END ..C=0.1, gamma=0.01, kernel=linear;, score=1.000 total time=   0.0s\n",
      "[CV 4/5] END ..C=0.1, gamma=0.01, kernel=linear;, score=1.000 total time=   0.0s\n",
      "[CV 5/5] END ..C=0.1, gamma=0.01, kernel=linear;, score=1.000 total time=   0.0s\n",
      "[CV 1/5] END ....C=0.1, gamma=0.001, kernel=rbf;, score=1.000 total time=   0.2s\n",
      "[CV 2/5] END ....C=0.1, gamma=0.001, kernel=rbf;, score=1.000 total time=   0.2s\n",
      "[CV 3/5] END ....C=0.1, gamma=0.001, kernel=rbf;, score=1.000 total time=   0.2s\n",
      "[CV 4/5] END ....C=0.1, gamma=0.001, kernel=rbf;, score=1.000 total time=   0.2s\n",
      "[CV 5/5] END ....C=0.1, gamma=0.001, kernel=rbf;, score=1.000 total time=   0.2s\n",
      "[CV 1/5] END .C=0.1, gamma=0.001, kernel=linear;, score=1.000 total time=   0.0s\n",
      "[CV 2/5] END .C=0.1, gamma=0.001, kernel=linear;, score=1.000 total time=   0.0s\n",
      "[CV 3/5] END .C=0.1, gamma=0.001, kernel=linear;, score=1.000 total time=   0.0s\n",
      "[CV 4/5] END .C=0.1, gamma=0.001, kernel=linear;, score=1.000 total time=   0.0s\n",
      "[CV 5/5] END .C=0.1, gamma=0.001, kernel=linear;, score=1.000 total time=   0.0s\n",
      "[CV 1/5] END ...C=0.1, gamma=0.0001, kernel=rbf;, score=0.894 total time=   0.2s\n",
      "[CV 2/5] END ...C=0.1, gamma=0.0001, kernel=rbf;, score=0.894 total time=   0.2s\n",
      "[CV 3/5] END ...C=0.1, gamma=0.0001, kernel=rbf;, score=0.893 total time=   0.2s\n",
      "[CV 4/5] END ...C=0.1, gamma=0.0001, kernel=rbf;, score=0.894 total time=   0.2s\n",
      "[CV 5/5] END ...C=0.1, gamma=0.0001, kernel=rbf;, score=0.894 total time=   0.2s\n",
      "[CV 1/5] END C=0.1, gamma=0.0001, kernel=linear;, score=1.000 total time=   0.0s\n",
      "[CV 2/5] END C=0.1, gamma=0.0001, kernel=linear;, score=1.000 total time=   0.0s\n",
      "[CV 3/5] END C=0.1, gamma=0.0001, kernel=linear;, score=1.000 total time=   0.0s\n",
      "[CV 4/5] END C=0.1, gamma=0.0001, kernel=linear;, score=1.000 total time=   0.0s\n",
      "[CV 5/5] END C=0.1, gamma=0.0001, kernel=linear;, score=1.000 total time=   0.0s\n",
      "[CV 1/5] END ..........C=1, gamma=1, kernel=rbf;, score=0.987 total time=   0.7s\n",
      "[CV 2/5] END ..........C=1, gamma=1, kernel=rbf;, score=0.986 total time=   0.7s\n",
      "[CV 3/5] END ..........C=1, gamma=1, kernel=rbf;, score=0.991 total time=   0.7s\n",
      "[CV 4/5] END ..........C=1, gamma=1, kernel=rbf;, score=0.989 total time=   0.7s\n",
      "[CV 5/5] END ..........C=1, gamma=1, kernel=rbf;, score=0.989 total time=   0.7s\n",
      "[CV 1/5] END .......C=1, gamma=1, kernel=linear;, score=1.000 total time=   0.0s\n",
      "[CV 2/5] END .......C=1, gamma=1, kernel=linear;, score=1.000 total time=   0.0s\n",
      "[CV 3/5] END .......C=1, gamma=1, kernel=linear;, score=1.000 total time=   0.0s\n",
      "[CV 4/5] END .......C=1, gamma=1, kernel=linear;, score=1.000 total time=   0.0s\n",
      "[CV 5/5] END .......C=1, gamma=1, kernel=linear;, score=1.000 total time=   0.0s\n",
      "[CV 1/5] END ........C=1, gamma=0.1, kernel=rbf;, score=1.000 total time=   0.1s\n",
      "[CV 2/5] END ........C=1, gamma=0.1, kernel=rbf;, score=1.000 total time=   0.1s\n",
      "[CV 3/5] END ........C=1, gamma=0.1, kernel=rbf;, score=1.000 total time=   0.1s\n",
      "[CV 4/5] END ........C=1, gamma=0.1, kernel=rbf;, score=1.000 total time=   0.1s\n",
      "[CV 5/5] END ........C=1, gamma=0.1, kernel=rbf;, score=0.999 total time=   0.1s\n",
      "[CV 1/5] END .....C=1, gamma=0.1, kernel=linear;, score=1.000 total time=   0.0s\n",
      "[CV 2/5] END .....C=1, gamma=0.1, kernel=linear;, score=1.000 total time=   0.0s\n",
      "[CV 3/5] END .....C=1, gamma=0.1, kernel=linear;, score=1.000 total time=   0.0s\n",
      "[CV 4/5] END .....C=1, gamma=0.1, kernel=linear;, score=1.000 total time=   0.0s\n",
      "[CV 5/5] END .....C=1, gamma=0.1, kernel=linear;, score=1.000 total time=   0.0s\n",
      "[CV 1/5] END .......C=1, gamma=0.01, kernel=rbf;, score=1.000 total time=   0.0s\n",
      "[CV 2/5] END .......C=1, gamma=0.01, kernel=rbf;, score=1.000 total time=   0.0s\n",
      "[CV 3/5] END .......C=1, gamma=0.01, kernel=rbf;, score=1.000 total time=   0.0s\n",
      "[CV 4/5] END .......C=1, gamma=0.01, kernel=rbf;, score=1.000 total time=   0.0s\n",
      "[CV 5/5] END .......C=1, gamma=0.01, kernel=rbf;, score=1.000 total time=   0.0s\n",
      "[CV 1/5] END ....C=1, gamma=0.01, kernel=linear;, score=1.000 total time=   0.0s\n",
      "[CV 2/5] END ....C=1, gamma=0.01, kernel=linear;, score=1.000 total time=   0.0s\n",
      "[CV 3/5] END ....C=1, gamma=0.01, kernel=linear;, score=1.000 total time=   0.0s\n",
      "[CV 4/5] END ....C=1, gamma=0.01, kernel=linear;, score=1.000 total time=   0.0s\n",
      "[CV 5/5] END ....C=1, gamma=0.01, kernel=linear;, score=1.000 total time=   0.0s\n",
      "[CV 1/5] END ......C=1, gamma=0.001, kernel=rbf;, score=1.000 total time=   0.1s\n",
      "[CV 2/5] END ......C=1, gamma=0.001, kernel=rbf;, score=1.000 total time=   0.1s\n",
      "[CV 3/5] END ......C=1, gamma=0.001, kernel=rbf;, score=1.000 total time=   0.1s\n",
      "[CV 4/5] END ......C=1, gamma=0.001, kernel=rbf;, score=1.000 total time=   0.1s\n",
      "[CV 5/5] END ......C=1, gamma=0.001, kernel=rbf;, score=1.000 total time=   0.1s\n",
      "[CV 1/5] END ...C=1, gamma=0.001, kernel=linear;, score=1.000 total time=   0.0s\n",
      "[CV 2/5] END ...C=1, gamma=0.001, kernel=linear;, score=1.000 total time=   0.0s\n",
      "[CV 3/5] END ...C=1, gamma=0.001, kernel=linear;, score=1.000 total time=   0.0s\n",
      "[CV 4/5] END ...C=1, gamma=0.001, kernel=linear;, score=1.000 total time=   0.0s\n",
      "[CV 5/5] END ...C=1, gamma=0.001, kernel=linear;, score=1.000 total time=   0.0s\n",
      "[CV 1/5] END .....C=1, gamma=0.0001, kernel=rbf;, score=1.000 total time=   0.2s\n",
      "[CV 2/5] END .....C=1, gamma=0.0001, kernel=rbf;, score=1.000 total time=   0.2s\n",
      "[CV 3/5] END .....C=1, gamma=0.0001, kernel=rbf;, score=1.000 total time=   0.2s\n",
      "[CV 4/5] END .....C=1, gamma=0.0001, kernel=rbf;, score=1.000 total time=   0.2s\n",
      "[CV 5/5] END .....C=1, gamma=0.0001, kernel=rbf;, score=1.000 total time=   0.2s\n",
      "[CV 1/5] END ..C=1, gamma=0.0001, kernel=linear;, score=1.000 total time=   0.0s\n",
      "[CV 2/5] END ..C=1, gamma=0.0001, kernel=linear;, score=1.000 total time=   0.0s\n",
      "[CV 3/5] END ..C=1, gamma=0.0001, kernel=linear;, score=1.000 total time=   0.0s\n",
      "[CV 4/5] END ..C=1, gamma=0.0001, kernel=linear;, score=1.000 total time=   0.0s\n",
      "[CV 5/5] END ..C=1, gamma=0.0001, kernel=linear;, score=1.000 total time=   0.0s\n",
      "[CV 1/5] END .........C=10, gamma=1, kernel=rbf;, score=0.988 total time=   0.7s\n",
      "[CV 2/5] END .........C=10, gamma=1, kernel=rbf;, score=0.989 total time=   0.7s\n",
      "[CV 3/5] END .........C=10, gamma=1, kernel=rbf;, score=0.993 total time=   0.7s\n",
      "[CV 4/5] END .........C=10, gamma=1, kernel=rbf;, score=0.992 total time=   0.7s\n",
      "[CV 5/5] END .........C=10, gamma=1, kernel=rbf;, score=0.991 total time=   0.7s\n",
      "[CV 1/5] END ......C=10, gamma=1, kernel=linear;, score=1.000 total time=   0.0s\n",
      "[CV 2/5] END ......C=10, gamma=1, kernel=linear;, score=1.000 total time=   0.0s\n",
      "[CV 3/5] END ......C=10, gamma=1, kernel=linear;, score=1.000 total time=   0.0s\n",
      "[CV 4/5] END ......C=10, gamma=1, kernel=linear;, score=1.000 total time=   0.0s\n",
      "[CV 5/5] END ......C=10, gamma=1, kernel=linear;, score=1.000 total time=   0.0s\n",
      "[CV 1/5] END .......C=10, gamma=0.1, kernel=rbf;, score=1.000 total time=   0.1s\n",
      "[CV 2/5] END .......C=10, gamma=0.1, kernel=rbf;, score=1.000 total time=   0.1s\n",
      "[CV 3/5] END .......C=10, gamma=0.1, kernel=rbf;, score=1.000 total time=   0.1s\n",
      "[CV 4/5] END .......C=10, gamma=0.1, kernel=rbf;, score=1.000 total time=   0.1s\n",
      "[CV 5/5] END .......C=10, gamma=0.1, kernel=rbf;, score=1.000 total time=   0.1s\n",
      "[CV 1/5] END ....C=10, gamma=0.1, kernel=linear;, score=1.000 total time=   0.0s\n",
      "[CV 2/5] END ....C=10, gamma=0.1, kernel=linear;, score=1.000 total time=   0.0s\n",
      "[CV 3/5] END ....C=10, gamma=0.1, kernel=linear;, score=1.000 total time=   0.0s\n",
      "[CV 4/5] END ....C=10, gamma=0.1, kernel=linear;, score=1.000 total time=   0.0s\n",
      "[CV 5/5] END ....C=10, gamma=0.1, kernel=linear;, score=1.000 total time=   0.0s\n",
      "[CV 1/5] END ......C=10, gamma=0.01, kernel=rbf;, score=1.000 total time=   0.0s\n",
      "[CV 2/5] END ......C=10, gamma=0.01, kernel=rbf;, score=1.000 total time=   0.0s\n",
      "[CV 3/5] END ......C=10, gamma=0.01, kernel=rbf;, score=1.000 total time=   0.0s\n",
      "[CV 4/5] END ......C=10, gamma=0.01, kernel=rbf;, score=1.000 total time=   0.0s\n",
      "[CV 5/5] END ......C=10, gamma=0.01, kernel=rbf;, score=1.000 total time=   0.0s\n",
      "[CV 1/5] END ...C=10, gamma=0.01, kernel=linear;, score=1.000 total time=   0.0s\n",
      "[CV 2/5] END ...C=10, gamma=0.01, kernel=linear;, score=1.000 total time=   0.0s\n",
      "[CV 3/5] END ...C=10, gamma=0.01, kernel=linear;, score=1.000 total time=   0.0s\n",
      "[CV 4/5] END ...C=10, gamma=0.01, kernel=linear;, score=1.000 total time=   0.0s\n",
      "[CV 5/5] END ...C=10, gamma=0.01, kernel=linear;, score=1.000 total time=   0.0s\n",
      "[CV 1/5] END .....C=10, gamma=0.001, kernel=rbf;, score=1.000 total time=   0.0s\n",
      "[CV 2/5] END .....C=10, gamma=0.001, kernel=rbf;, score=1.000 total time=   0.0s\n",
      "[CV 3/5] END .....C=10, gamma=0.001, kernel=rbf;, score=1.000 total time=   0.0s\n",
      "[CV 4/5] END .....C=10, gamma=0.001, kernel=rbf;, score=1.000 total time=   0.0s\n",
      "[CV 5/5] END .....C=10, gamma=0.001, kernel=rbf;, score=1.000 total time=   0.0s\n",
      "[CV 1/5] END ..C=10, gamma=0.001, kernel=linear;, score=1.000 total time=   0.0s\n",
      "[CV 2/5] END ..C=10, gamma=0.001, kernel=linear;, score=1.000 total time=   0.0s\n",
      "[CV 3/5] END ..C=10, gamma=0.001, kernel=linear;, score=1.000 total time=   0.0s\n",
      "[CV 4/5] END ..C=10, gamma=0.001, kernel=linear;, score=1.000 total time=   0.0s\n",
      "[CV 5/5] END ..C=10, gamma=0.001, kernel=linear;, score=1.000 total time=   0.0s\n",
      "[CV 1/5] END ....C=10, gamma=0.0001, kernel=rbf;, score=1.000 total time=   0.1s\n",
      "[CV 2/5] END ....C=10, gamma=0.0001, kernel=rbf;, score=1.000 total time=   0.1s\n",
      "[CV 3/5] END ....C=10, gamma=0.0001, kernel=rbf;, score=1.000 total time=   0.1s\n",
      "[CV 4/5] END ....C=10, gamma=0.0001, kernel=rbf;, score=1.000 total time=   0.1s\n",
      "[CV 5/5] END ....C=10, gamma=0.0001, kernel=rbf;, score=1.000 total time=   0.1s\n",
      "[CV 1/5] END .C=10, gamma=0.0001, kernel=linear;, score=1.000 total time=   0.0s\n",
      "[CV 2/5] END .C=10, gamma=0.0001, kernel=linear;, score=1.000 total time=   0.0s\n",
      "[CV 3/5] END .C=10, gamma=0.0001, kernel=linear;, score=1.000 total time=   0.0s\n",
      "[CV 4/5] END .C=10, gamma=0.0001, kernel=linear;, score=1.000 total time=   0.0s\n",
      "[CV 5/5] END .C=10, gamma=0.0001, kernel=linear;, score=1.000 total time=   0.0s\n",
      "[CV 1/5] END ........C=100, gamma=1, kernel=rbf;, score=0.988 total time=   0.7s\n",
      "[CV 2/5] END ........C=100, gamma=1, kernel=rbf;, score=0.989 total time=   0.7s\n",
      "[CV 3/5] END ........C=100, gamma=1, kernel=rbf;, score=0.993 total time=   0.7s\n",
      "[CV 4/5] END ........C=100, gamma=1, kernel=rbf;, score=0.992 total time=   0.8s\n",
      "[CV 5/5] END ........C=100, gamma=1, kernel=rbf;, score=0.991 total time=   0.8s\n",
      "[CV 1/5] END .....C=100, gamma=1, kernel=linear;, score=1.000 total time=   0.0s\n",
      "[CV 2/5] END .....C=100, gamma=1, kernel=linear;, score=1.000 total time=   0.0s\n",
      "[CV 3/5] END .....C=100, gamma=1, kernel=linear;, score=1.000 total time=   0.0s\n",
      "[CV 4/5] END .....C=100, gamma=1, kernel=linear;, score=1.000 total time=   0.0s\n",
      "[CV 5/5] END .....C=100, gamma=1, kernel=linear;, score=1.000 total time=   0.0s\n",
      "[CV 1/5] END ......C=100, gamma=0.1, kernel=rbf;, score=1.000 total time=   0.1s\n",
      "[CV 2/5] END ......C=100, gamma=0.1, kernel=rbf;, score=1.000 total time=   0.1s\n",
      "[CV 3/5] END ......C=100, gamma=0.1, kernel=rbf;, score=1.000 total time=   0.1s\n",
      "[CV 4/5] END ......C=100, gamma=0.1, kernel=rbf;, score=1.000 total time=   0.1s\n",
      "[CV 5/5] END ......C=100, gamma=0.1, kernel=rbf;, score=1.000 total time=   0.1s\n",
      "[CV 1/5] END ...C=100, gamma=0.1, kernel=linear;, score=1.000 total time=   0.0s\n",
      "[CV 2/5] END ...C=100, gamma=0.1, kernel=linear;, score=1.000 total time=   0.0s\n",
      "[CV 3/5] END ...C=100, gamma=0.1, kernel=linear;, score=1.000 total time=   0.0s\n",
      "[CV 4/5] END ...C=100, gamma=0.1, kernel=linear;, score=1.000 total time=   0.0s\n",
      "[CV 5/5] END ...C=100, gamma=0.1, kernel=linear;, score=1.000 total time=   0.0s\n",
      "[CV 1/5] END .....C=100, gamma=0.01, kernel=rbf;, score=1.000 total time=   0.0s\n",
      "[CV 2/5] END .....C=100, gamma=0.01, kernel=rbf;, score=1.000 total time=   0.0s\n",
      "[CV 3/5] END .....C=100, gamma=0.01, kernel=rbf;, score=1.000 total time=   0.0s\n",
      "[CV 4/5] END .....C=100, gamma=0.01, kernel=rbf;, score=1.000 total time=   0.0s\n",
      "[CV 5/5] END .....C=100, gamma=0.01, kernel=rbf;, score=1.000 total time=   0.0s\n",
      "[CV 1/5] END ..C=100, gamma=0.01, kernel=linear;, score=1.000 total time=   0.0s\n",
      "[CV 2/5] END ..C=100, gamma=0.01, kernel=linear;, score=1.000 total time=   0.0s\n",
      "[CV 3/5] END ..C=100, gamma=0.01, kernel=linear;, score=1.000 total time=   0.0s\n",
      "[CV 4/5] END ..C=100, gamma=0.01, kernel=linear;, score=1.000 total time=   0.0s\n",
      "[CV 5/5] END ..C=100, gamma=0.01, kernel=linear;, score=1.000 total time=   0.0s\n",
      "[CV 1/5] END ....C=100, gamma=0.001, kernel=rbf;, score=1.000 total time=   0.0s\n",
      "[CV 2/5] END ....C=100, gamma=0.001, kernel=rbf;, score=1.000 total time=   0.0s\n",
      "[CV 3/5] END ....C=100, gamma=0.001, kernel=rbf;, score=1.000 total time=   0.0s\n",
      "[CV 4/5] END ....C=100, gamma=0.001, kernel=rbf;, score=1.000 total time=   0.0s\n",
      "[CV 5/5] END ....C=100, gamma=0.001, kernel=rbf;, score=1.000 total time=   0.0s\n",
      "[CV 1/5] END .C=100, gamma=0.001, kernel=linear;, score=1.000 total time=   0.0s\n",
      "[CV 2/5] END .C=100, gamma=0.001, kernel=linear;, score=1.000 total time=   0.0s\n",
      "[CV 3/5] END .C=100, gamma=0.001, kernel=linear;, score=1.000 total time=   0.0s\n",
      "[CV 4/5] END .C=100, gamma=0.001, kernel=linear;, score=1.000 total time=   0.0s\n",
      "[CV 5/5] END .C=100, gamma=0.001, kernel=linear;, score=1.000 total time=   0.0s\n",
      "[CV 1/5] END ...C=100, gamma=0.0001, kernel=rbf;, score=1.000 total time=   0.0s\n",
      "[CV 2/5] END ...C=100, gamma=0.0001, kernel=rbf;, score=1.000 total time=   0.0s\n",
      "[CV 3/5] END ...C=100, gamma=0.0001, kernel=rbf;, score=1.000 total time=   0.0s\n",
      "[CV 4/5] END ...C=100, gamma=0.0001, kernel=rbf;, score=1.000 total time=   0.0s\n",
      "[CV 5/5] END ...C=100, gamma=0.0001, kernel=rbf;, score=1.000 total time=   0.0s\n",
      "[CV 1/5] END C=100, gamma=0.0001, kernel=linear;, score=1.000 total time=   0.0s\n",
      "[CV 2/5] END C=100, gamma=0.0001, kernel=linear;, score=1.000 total time=   0.0s\n",
      "[CV 3/5] END C=100, gamma=0.0001, kernel=linear;, score=1.000 total time=   0.0s\n",
      "[CV 4/5] END C=100, gamma=0.0001, kernel=linear;, score=1.000 total time=   0.0s\n",
      "[CV 5/5] END C=100, gamma=0.0001, kernel=linear;, score=1.000 total time=   0.0s\n",
      "[CV 1/5] END .......C=1000, gamma=1, kernel=rbf;, score=0.988 total time=   0.7s\n",
      "[CV 2/5] END .......C=1000, gamma=1, kernel=rbf;, score=0.989 total time=   0.7s\n",
      "[CV 3/5] END .......C=1000, gamma=1, kernel=rbf;, score=0.993 total time=   0.7s\n",
      "[CV 4/5] END .......C=1000, gamma=1, kernel=rbf;, score=0.992 total time=   0.7s\n",
      "[CV 5/5] END .......C=1000, gamma=1, kernel=rbf;, score=0.991 total time=   0.7s\n",
      "[CV 1/5] END ....C=1000, gamma=1, kernel=linear;, score=1.000 total time=   0.0s\n",
      "[CV 2/5] END ....C=1000, gamma=1, kernel=linear;, score=1.000 total time=   0.0s\n",
      "[CV 3/5] END ....C=1000, gamma=1, kernel=linear;, score=1.000 total time=   0.0s\n",
      "[CV 4/5] END ....C=1000, gamma=1, kernel=linear;, score=1.000 total time=   0.0s\n",
      "[CV 5/5] END ....C=1000, gamma=1, kernel=linear;, score=1.000 total time=   0.0s\n",
      "[CV 1/5] END .....C=1000, gamma=0.1, kernel=rbf;, score=1.000 total time=   0.1s\n",
      "[CV 2/5] END .....C=1000, gamma=0.1, kernel=rbf;, score=1.000 total time=   0.1s\n",
      "[CV 3/5] END .....C=1000, gamma=0.1, kernel=rbf;, score=1.000 total time=   0.1s\n",
      "[CV 4/5] END .....C=1000, gamma=0.1, kernel=rbf;, score=1.000 total time=   0.1s\n",
      "[CV 5/5] END .....C=1000, gamma=0.1, kernel=rbf;, score=1.000 total time=   0.1s\n",
      "[CV 1/5] END ..C=1000, gamma=0.1, kernel=linear;, score=1.000 total time=   0.0s\n",
      "[CV 2/5] END ..C=1000, gamma=0.1, kernel=linear;, score=1.000 total time=   0.0s\n",
      "[CV 3/5] END ..C=1000, gamma=0.1, kernel=linear;, score=1.000 total time=   0.0s\n",
      "[CV 4/5] END ..C=1000, gamma=0.1, kernel=linear;, score=1.000 total time=   0.0s\n",
      "[CV 5/5] END ..C=1000, gamma=0.1, kernel=linear;, score=1.000 total time=   0.0s\n",
      "[CV 1/5] END ....C=1000, gamma=0.01, kernel=rbf;, score=1.000 total time=   0.0s\n",
      "[CV 2/5] END ....C=1000, gamma=0.01, kernel=rbf;, score=1.000 total time=   0.0s\n",
      "[CV 3/5] END ....C=1000, gamma=0.01, kernel=rbf;, score=1.000 total time=   0.0s\n",
      "[CV 4/5] END ....C=1000, gamma=0.01, kernel=rbf;, score=1.000 total time=   0.0s\n",
      "[CV 5/5] END ....C=1000, gamma=0.01, kernel=rbf;, score=1.000 total time=   0.0s\n",
      "[CV 1/5] END .C=1000, gamma=0.01, kernel=linear;, score=1.000 total time=   0.0s\n",
      "[CV 2/5] END .C=1000, gamma=0.01, kernel=linear;, score=1.000 total time=   0.0s\n",
      "[CV 3/5] END .C=1000, gamma=0.01, kernel=linear;, score=1.000 total time=   0.0s\n",
      "[CV 4/5] END .C=1000, gamma=0.01, kernel=linear;, score=1.000 total time=   0.0s\n",
      "[CV 5/5] END .C=1000, gamma=0.01, kernel=linear;, score=1.000 total time=   0.0s\n",
      "[CV 1/5] END ...C=1000, gamma=0.001, kernel=rbf;, score=1.000 total time=   0.0s\n",
      "[CV 2/5] END ...C=1000, gamma=0.001, kernel=rbf;, score=1.000 total time=   0.0s\n",
      "[CV 3/5] END ...C=1000, gamma=0.001, kernel=rbf;, score=1.000 total time=   0.0s\n",
      "[CV 4/5] END ...C=1000, gamma=0.001, kernel=rbf;, score=1.000 total time=   0.0s\n",
      "[CV 5/5] END ...C=1000, gamma=0.001, kernel=rbf;, score=1.000 total time=   0.0s\n",
      "[CV 1/5] END C=1000, gamma=0.001, kernel=linear;, score=1.000 total time=   0.0s\n",
      "[CV 2/5] END C=1000, gamma=0.001, kernel=linear;, score=1.000 total time=   0.0s\n",
      "[CV 3/5] END C=1000, gamma=0.001, kernel=linear;, score=1.000 total time=   0.0s\n",
      "[CV 4/5] END C=1000, gamma=0.001, kernel=linear;, score=1.000 total time=   0.0s\n",
      "[CV 5/5] END C=1000, gamma=0.001, kernel=linear;, score=1.000 total time=   0.0s\n",
      "[CV 1/5] END ..C=1000, gamma=0.0001, kernel=rbf;, score=1.000 total time=   0.1s\n",
      "[CV 2/5] END ..C=1000, gamma=0.0001, kernel=rbf;, score=1.000 total time=   0.0s\n",
      "[CV 3/5] END ..C=1000, gamma=0.0001, kernel=rbf;, score=1.000 total time=   0.1s\n",
      "[CV 4/5] END ..C=1000, gamma=0.0001, kernel=rbf;, score=1.000 total time=   0.1s\n",
      "[CV 5/5] END ..C=1000, gamma=0.0001, kernel=rbf;, score=1.000 total time=   0.1s\n",
      "[CV 1/5] END C=1000, gamma=0.0001, kernel=linear;, score=1.000 total time=   0.0s\n",
      "[CV 2/5] END C=1000, gamma=0.0001, kernel=linear;, score=1.000 total time=   0.0s\n",
      "[CV 3/5] END C=1000, gamma=0.0001, kernel=linear;, score=1.000 total time=   0.0s\n",
      "[CV 4/5] END C=1000, gamma=0.0001, kernel=linear;, score=1.000 total time=   0.0s\n",
      "[CV 5/5] END C=1000, gamma=0.0001, kernel=linear;, score=1.000 total time=   0.0s\n",
      "SVC(C=0.1, gamma=1, kernel='linear')\n",
      "Train Accuracy : 1.0\n",
      "Train Confusion Matrix:\n",
      "[[ 636    0]\n",
      " [   0 5342]]\n"
     ]
    },
    {
     "data": {
      "image/png": "[encoded data removed]",
      "text/plain": [
       "<Figure size 432x288 with 2 Axes>"
      ]
     },
     "metadata": {
      "needs_background": "light"
     },
     "output_type": "display_data"
    },
    {
     "name": "stdout",
     "output_type": "stream",
     "text": [
      "--------------------------------------------------\n",
      "Test Accuracy : 1.0\n",
      "Test Confusion Matrix:\n",
      "[[ 192    0]\n",
      " [   0 1801]]\n"
     ]
    },
    {
     "data": {
      "image/png": "[encoded data removed]",
      "text/plain": [
       "<Figure size 432x288 with 2 Axes>"
      ]
     },
     "metadata": {
      "needs_background": "light"
     },
     "output_type": "display_data"
    },
    {
     "name": "stdout",
     "output_type": "stream",
     "text": [
      "Media de cross_validation 1.0\n"
     ]
    }
   ],
   "source": [
    "\n",
    "# dividing X, y into train and test data\n",
    "X_train, X_test, y_train, y_test = train_test_split(X_std, y, random_state = 0)\n",
    " \n",
    "\n",
    "# defining parameter range\n",
    "param_grid = {'C': [0.1, 1, 10, 100, 1000],\n",
    "              'gamma': [1, 0.1, 0.01, 0.001, 0.0001],\n",
    "              'kernel': ['rbf','linear']}\n",
    "\n",
    "model = SVC()\n",
    " \n",
    "grid_search = GridSearchCV(model, param_grid, refit = True, verbose = 3)\n",
    " \n",
    "# fitting the model for grid search\n",
    "grid_search.fit(X_train, y_train)\n",
    "\n",
    "print(grid_search.best_estimator_)\n",
    "kmodel_best = grid_search.best_estimator_\n",
    "\n",
    "evaluate_model(model_best,X,y,y_test,y_train,X_test,X_train)\n",
    "\n"
   ]
  },
  {
   "cell_type": "code",
   "execution_count": 57,
   "metadata": {},
   "outputs": [
    {
     "data": {
      "text/plain": [
       "Text(0, 0.5, 'Number of Observations')"
      ]
     },
     "execution_count": 57,
     "metadata": {},
     "output_type": "execute_result"
    },
    {
     "data": {
      "image/png": "[encoded data removed]",
      "text/plain": [
       "<Figure size 432x288 with 1 Axes>"
      ]
     },
     "metadata": {
      "needs_background": "light"
     },
     "output_type": "display_data"
    }
   ],
   "source": [
    "count_classes = pd.value_counts(df['Delayed'], sort = True)\n",
    "count_classes.plot(kind = 'bar', rot=0)\n",
    "plt.xticks(range(2), ['delayed', 'NoDelayed'])\n",
    "plt.title(\"Frequency by observation number\")\n",
    "plt.xlabel(\"Class\")\n",
    "plt.ylabel(\"Number of Observations\")"
   ]
  },
  {
   "cell_type": "markdown",
   "metadata": {},
   "source": [
    "Estrategia: Combinamos resampling con Smote-Tomek"
   ]
  },
  {
   "cell_type": "code",
   "execution_count": 58,
   "metadata": {},
   "outputs": [],
   "source": [
    "resample=SMOTETomek(tomek=TomekLinks(sampling_strategy='majority'))\n",
    "X=df.drop(['Delayed'],axis=1) \n",
    "y=df['Delayed']\n",
    "model=RandomForestClassifier(criterion='entropy')\n",
    "pipeline=Pipeline(steps=[('r', resample), ('m', model)])\n",
    "# Define evaluation procedure (here we use Repeated Stratified K-Fold CV)\n",
    "cv=RepeatedStratifiedKFold(n_splits=10, n_repeats=3, random_state=1)\n",
    "# Evaluate model\n",
    "scoring=['accuracy','precision_macro','recall_macro']\n",
    "scores = cross_validate(pipeline, X, y, scoring=scoring, cv=cv, n_jobs=-1)# summarize performance\n",
    "print('Mean Accuracy: %.4f' % np.mean(scores['test_accuracy']))\n",
    "print('Mean Precision: %.4f' % np.mean(scores['test_precision_macro']))\n",
    "print('Mean Recall: %.4f' % np.mean(scores['test_recall_macro']))"
   ]
  },
  {
   "cell_type": "code",
   "execution_count": 20,
   "metadata": {},
   "outputs": [
    {
     "name": "stdout",
     "output_type": "stream",
     "text": [
      "Distribution before resampling Counter({True: 7114, False: 855})\n",
      "Distribution labels after resampling Counter({True: 7114, False: 7114})\n",
      "Fitting 5 folds for each of 2 candidates, totalling 10 fits\n",
      "[CV 1/5] END ........C=0.1, gamma=1, kernel=rbf;, score=0.891 total time=   2.2s\n",
      "[CV 2/5] END ........C=0.1, gamma=1, kernel=rbf;, score=0.891 total time=   2.2s\n",
      "[CV 3/5] END ........C=0.1, gamma=1, kernel=rbf;, score=0.891 total time=   2.2s\n",
      "[CV 4/5] END ........C=0.1, gamma=1, kernel=rbf;, score=0.891 total time=   2.2s\n",
      "[CV 5/5] END ........C=0.1, gamma=1, kernel=rbf;, score=0.891 total time=   2.0s\n",
      "[CV 1/5] END .....C=0.1, gamma=1, kernel=linear;, score=1.000 total time=  15.9s\n",
      "[CV 2/5] END .....C=0.1, gamma=1, kernel=linear;, score=1.000 total time=  17.6s\n",
      "[CV 3/5] END .....C=0.1, gamma=1, kernel=linear;, score=1.000 total time=  28.1s\n",
      "[CV 4/5] END .....C=0.1, gamma=1, kernel=linear;, score=1.000 total time=  18.3s\n",
      "[CV 5/5] END .....C=0.1, gamma=1, kernel=linear;, score=1.000 total time=  16.5s\n",
      "SVC(C=0.1, gamma=1, kernel='linear')\n",
      "Train Accuracy : 1.0\n",
      "Train Confusion Matrix:\n",
      "[[ 650    0]\n",
      " [   0 5326]]\n"
     ]
    },
    {
     "data": {
      "image/png": "[encoded data removed]",
      "text/plain": [
       "<Figure size 432x288 with 2 Axes>"
      ]
     },
     "metadata": {
      "needs_background": "light"
     },
     "output_type": "display_data"
    },
    {
     "name": "stdout",
     "output_type": "stream",
     "text": [
      "--------------------------------------------------\n",
      "Test Accuracy : 0.9994982438534872\n",
      "Test Confusion Matrix:\n",
      "[[ 205    0]\n",
      " [   1 1787]]\n"
     ]
    },
    {
     "data": {
      "image/png": "[encoded data removed]",
      "text/plain": [
       "<Figure size 432x288 with 2 Axes>"
      ]
     },
     "metadata": {
      "needs_background": "light"
     },
     "output_type": "display_data"
    },
    {
     "name": "stdout",
     "output_type": "stream",
     "text": [
      "Media de cross_validation 0.99967330542561\n"
     ]
    }
   ],
   "source": [
    "ros = RandomOverSampler(random_state=42)\n",
    "\n",
    "X_res, y_res = ros.fit_resample(X, y)\n",
    "X_train, X_test, y_train, y_test = train_test_split(X, y, random_state = 0)\n",
    "print (\"Distribution before resampling {}\".format(Counter(y)))\n",
    "print (\"Distribution labels after resampling {}\".format(Counter(y_res)))\n",
    "\n",
    "\n",
    "\n",
    "# defining parameter range\n",
    "param_grid = {'C': [0.1],\n",
    "              'gamma': [1],\n",
    "              'kernel': ['rbf','linear']}\n",
    "\n",
    "model = SVC()\n",
    " \n",
    "grid_search = GridSearchCV(model, param_grid, refit = True, verbose = 3)\n",
    " \n",
    "# fitting the model for grid search\n",
    "grid_search.fit(X_train, y_train)\n",
    "\n",
    "print(grid_search.best_estimator_)\n",
    "model_best = grid_search.best_estimator_\n",
    "\n",
    "evaluate_model(model_best,X,y,y_test,y_train,X_test,X_train)\n"
   ]
  },
  {
   "cell_type": "markdown",
   "metadata": {},
   "source": [
    "## Nivell 3\n",
    "\n",
    "\n",
    "### Exercici 6\n",
    "\n",
    "No utilitzis la variable DepDelay a l’hora de fer prediccions"
   ]
  },
  {
   "cell_type": "code",
   "execution_count": 21,
   "metadata": {},
   "outputs": [],
   "source": [
    "X=df.drop(['Delayed'],axis=1) \n",
    "y=df['Delayed']\n",
    "X.drop(['DepDelay'],axis=1, inplace=True) \n",
    "X_train, X_test, y_train, y_test = train_test_split(X, y, test_size=0.33)"
   ]
  },
  {
   "cell_type": "code",
   "execution_count": 29,
   "metadata": {},
   "outputs": [
    {
     "name": "stdout",
     "output_type": "stream",
     "text": [
      "Fitting 5 folds for each of 48 candidates, totalling 240 fits\n",
      "[CV 1/5] END max_depth=10, max_features=auto, min_samples_leaf=2, min_samples_split=2, n_estimators=200;, score=1.000 total time=   0.8s\n",
      "[CV 2/5] END max_depth=10, max_features=auto, min_samples_leaf=2, min_samples_split=2, n_estimators=200;, score=1.000 total time=   0.9s\n",
      "[CV 3/5] END max_depth=10, max_features=auto, min_samples_leaf=2, min_samples_split=2, n_estimators=200;, score=1.000 total time=   0.9s\n",
      "[CV 4/5] END max_depth=10, max_features=auto, min_samples_leaf=2, min_samples_split=2, n_estimators=200;, score=1.000 total time=   0.9s\n",
      "[CV 5/5] END max_depth=10, max_features=auto, min_samples_leaf=2, min_samples_split=2, n_estimators=200;, score=1.000 total time=   1.0s\n",
      "[CV 1/5] END max_depth=10, max_features=auto, min_samples_leaf=2, min_samples_split=2, n_estimators=225;, score=1.000 total time=   1.1s\n",
      "[CV 2/5] END max_depth=10, max_features=auto, min_samples_leaf=2, min_samples_split=2, n_estimators=225;, score=1.000 total time=   0.8s\n",
      "[CV 3/5] END max_depth=10, max_features=auto, min_samples_leaf=2, min_samples_split=2, n_estimators=225;, score=1.000 total time=   0.6s\n",
      "[CV 4/5] END max_depth=10, max_features=auto, min_samples_leaf=2, min_samples_split=2, n_estimators=225;, score=1.000 total time=   0.6s\n",
      "[CV 5/5] END max_depth=10, max_features=auto, min_samples_leaf=2, min_samples_split=2, n_estimators=225;, score=1.000 total time=   0.6s\n",
      "[CV 1/5] END max_depth=10, max_features=auto, min_samples_leaf=2, min_samples_split=2, n_estimators=250;, score=1.000 total time=   0.6s\n",
      "[CV 2/5] END max_depth=10, max_features=auto, min_samples_leaf=2, min_samples_split=2, n_estimators=250;, score=1.000 total time=   0.7s\n",
      "[CV 3/5] END max_depth=10, max_features=auto, min_samples_leaf=2, min_samples_split=2, n_estimators=250;, score=1.000 total time=   0.6s\n",
      "[CV 4/5] END max_depth=10, max_features=auto, min_samples_leaf=2, min_samples_split=2, n_estimators=250;, score=1.000 total time=   0.6s\n",
      "[CV 5/5] END max_depth=10, max_features=auto, min_samples_leaf=2, min_samples_split=2, n_estimators=250;, score=1.000 total time=   0.7s\n",
      "[CV 1/5] END max_depth=10, max_features=auto, min_samples_leaf=2, min_samples_split=5, n_estimators=200;, score=1.000 total time=   0.5s\n",
      "[CV 2/5] END max_depth=10, max_features=auto, min_samples_leaf=2, min_samples_split=5, n_estimators=200;, score=1.000 total time=   0.5s\n",
      "[CV 3/5] END max_depth=10, max_features=auto, min_samples_leaf=2, min_samples_split=5, n_estimators=200;, score=1.000 total time=   0.5s\n",
      "[CV 4/5] END max_depth=10, max_features=auto, min_samples_leaf=2, min_samples_split=5, n_estimators=200;, score=1.000 total time=   0.5s\n",
      "[CV 5/5] END max_depth=10, max_features=auto, min_samples_leaf=2, min_samples_split=5, n_estimators=200;, score=1.000 total time=   0.5s\n",
      "[CV 1/5] END max_depth=10, max_features=auto, min_samples_leaf=2, min_samples_split=5, n_estimators=225;, score=1.000 total time=   0.6s\n",
      "[CV 2/5] END max_depth=10, max_features=auto, min_samples_leaf=2, min_samples_split=5, n_estimators=225;, score=1.000 total time=   0.6s\n",
      "[CV 3/5] END max_depth=10, max_features=auto, min_samples_leaf=2, min_samples_split=5, n_estimators=225;, score=1.000 total time=   0.6s\n",
      "[CV 4/5] END max_depth=10, max_features=auto, min_samples_leaf=2, min_samples_split=5, n_estimators=225;, score=1.000 total time=   0.6s\n",
      "[CV 5/5] END max_depth=10, max_features=auto, min_samples_leaf=2, min_samples_split=5, n_estimators=225;, score=1.000 total time=   0.6s\n",
      "[CV 1/5] END max_depth=10, max_features=auto, min_samples_leaf=2, min_samples_split=5, n_estimators=250;, score=1.000 total time=   0.6s\n",
      "[CV 2/5] END max_depth=10, max_features=auto, min_samples_leaf=2, min_samples_split=5, n_estimators=250;, score=1.000 total time=   0.7s\n",
      "[CV 3/5] END max_depth=10, max_features=auto, min_samples_leaf=2, min_samples_split=5, n_estimators=250;, score=1.000 total time=   0.7s\n",
      "[CV 4/5] END max_depth=10, max_features=auto, min_samples_leaf=2, min_samples_split=5, n_estimators=250;, score=1.000 total time=   0.7s\n",
      "[CV 5/5] END max_depth=10, max_features=auto, min_samples_leaf=2, min_samples_split=5, n_estimators=250;, score=1.000 total time=   0.7s\n",
      "[CV 1/5] END max_depth=10, max_features=auto, min_samples_leaf=4, min_samples_split=2, n_estimators=200;, score=1.000 total time=   0.5s\n",
      "[CV 2/5] END max_depth=10, max_features=auto, min_samples_leaf=4, min_samples_split=2, n_estimators=200;, score=1.000 total time=   0.6s\n",
      "[CV 3/5] END max_depth=10, max_features=auto, min_samples_leaf=4, min_samples_split=2, n_estimators=200;, score=1.000 total time=   0.6s\n",
      "[CV 4/5] END max_depth=10, max_features=auto, min_samples_leaf=4, min_samples_split=2, n_estimators=200;, score=1.000 total time=   0.6s\n",
      "[CV 5/5] END max_depth=10, max_features=auto, min_samples_leaf=4, min_samples_split=2, n_estimators=200;, score=1.000 total time=   0.6s\n",
      "[CV 1/5] END max_depth=10, max_features=auto, min_samples_leaf=4, min_samples_split=2, n_estimators=225;, score=1.000 total time=   0.6s\n",
      "[CV 2/5] END max_depth=10, max_features=auto, min_samples_leaf=4, min_samples_split=2, n_estimators=225;, score=1.000 total time=   0.6s\n",
      "[CV 3/5] END max_depth=10, max_features=auto, min_samples_leaf=4, min_samples_split=2, n_estimators=225;, score=1.000 total time=   0.7s\n",
      "[CV 4/5] END max_depth=10, max_features=auto, min_samples_leaf=4, min_samples_split=2, n_estimators=225;, score=1.000 total time=   0.7s\n",
      "[CV 5/5] END max_depth=10, max_features=auto, min_samples_leaf=4, min_samples_split=2, n_estimators=225;, score=1.000 total time=   0.6s\n",
      "[CV 1/5] END max_depth=10, max_features=auto, min_samples_leaf=4, min_samples_split=2, n_estimators=250;, score=1.000 total time=   0.6s\n",
      "[CV 2/5] END max_depth=10, max_features=auto, min_samples_leaf=4, min_samples_split=2, n_estimators=250;, score=1.000 total time=   0.7s\n",
      "[CV 3/5] END max_depth=10, max_features=auto, min_samples_leaf=4, min_samples_split=2, n_estimators=250;, score=1.000 total time=   0.6s\n",
      "[CV 4/5] END max_depth=10, max_features=auto, min_samples_leaf=4, min_samples_split=2, n_estimators=250;, score=1.000 total time=   0.6s\n",
      "[CV 5/5] END max_depth=10, max_features=auto, min_samples_leaf=4, min_samples_split=2, n_estimators=250;, score=1.000 total time=   0.6s\n",
      "[CV 1/5] END max_depth=10, max_features=auto, min_samples_leaf=4, min_samples_split=5, n_estimators=200;, score=1.000 total time=   0.5s\n",
      "[CV 2/5] END max_depth=10, max_features=auto, min_samples_leaf=4, min_samples_split=5, n_estimators=200;, score=1.000 total time=   0.5s\n",
      "[CV 3/5] END max_depth=10, max_features=auto, min_samples_leaf=4, min_samples_split=5, n_estimators=200;, score=1.000 total time=   0.5s\n",
      "[CV 4/5] END max_depth=10, max_features=auto, min_samples_leaf=4, min_samples_split=5, n_estimators=200;, score=1.000 total time=   0.5s\n",
      "[CV 5/5] END max_depth=10, max_features=auto, min_samples_leaf=4, min_samples_split=5, n_estimators=200;, score=1.000 total time=   0.5s\n",
      "[CV 1/5] END max_depth=10, max_features=auto, min_samples_leaf=4, min_samples_split=5, n_estimators=225;, score=1.000 total time=   0.6s\n",
      "[CV 2/5] END max_depth=10, max_features=auto, min_samples_leaf=4, min_samples_split=5, n_estimators=225;, score=1.000 total time=   0.6s\n",
      "[CV 3/5] END max_depth=10, max_features=auto, min_samples_leaf=4, min_samples_split=5, n_estimators=225;, score=1.000 total time=   0.6s\n",
      "[CV 4/5] END max_depth=10, max_features=auto, min_samples_leaf=4, min_samples_split=5, n_estimators=225;, score=1.000 total time=   0.6s\n",
      "[CV 5/5] END max_depth=10, max_features=auto, min_samples_leaf=4, min_samples_split=5, n_estimators=225;, score=1.000 total time=   0.6s\n",
      "[CV 1/5] END max_depth=10, max_features=auto, min_samples_leaf=4, min_samples_split=5, n_estimators=250;, score=1.000 total time=   0.6s\n",
      "[CV 2/5] END max_depth=10, max_features=auto, min_samples_leaf=4, min_samples_split=5, n_estimators=250;, score=1.000 total time=   0.6s\n",
      "[CV 3/5] END max_depth=10, max_features=auto, min_samples_leaf=4, min_samples_split=5, n_estimators=250;, score=1.000 total time=   0.7s\n",
      "[CV 4/5] END max_depth=10, max_features=auto, min_samples_leaf=4, min_samples_split=5, n_estimators=250;, score=1.000 total time=   0.7s\n",
      "[CV 5/5] END max_depth=10, max_features=auto, min_samples_leaf=4, min_samples_split=5, n_estimators=250;, score=1.000 total time=   0.6s\n",
      "[CV 1/5] END max_depth=10, max_features=sqrt, min_samples_leaf=2, min_samples_split=2, n_estimators=200;, score=1.000 total time=   0.5s\n",
      "[CV 2/5] END max_depth=10, max_features=sqrt, min_samples_leaf=2, min_samples_split=2, n_estimators=200;, score=1.000 total time=   0.5s\n",
      "[CV 3/5] END max_depth=10, max_features=sqrt, min_samples_leaf=2, min_samples_split=2, n_estimators=200;, score=1.000 total time=   0.5s\n",
      "[CV 4/5] END max_depth=10, max_features=sqrt, min_samples_leaf=2, min_samples_split=2, n_estimators=200;, score=1.000 total time=   0.5s\n",
      "[CV 5/5] END max_depth=10, max_features=sqrt, min_samples_leaf=2, min_samples_split=2, n_estimators=200;, score=1.000 total time=   0.5s\n",
      "[CV 1/5] END max_depth=10, max_features=sqrt, min_samples_leaf=2, min_samples_split=2, n_estimators=225;, score=1.000 total time=   0.6s\n",
      "[CV 2/5] END max_depth=10, max_features=sqrt, min_samples_leaf=2, min_samples_split=2, n_estimators=225;, score=1.000 total time=   0.6s\n",
      "[CV 3/5] END max_depth=10, max_features=sqrt, min_samples_leaf=2, min_samples_split=2, n_estimators=225;, score=1.000 total time=   0.6s\n",
      "[CV 4/5] END max_depth=10, max_features=sqrt, min_samples_leaf=2, min_samples_split=2, n_estimators=225;, score=1.000 total time=   0.6s\n",
      "[CV 5/5] END max_depth=10, max_features=sqrt, min_samples_leaf=2, min_samples_split=2, n_estimators=225;, score=1.000 total time=   0.6s\n",
      "[CV 1/5] END max_depth=10, max_features=sqrt, min_samples_leaf=2, min_samples_split=2, n_estimators=250;, score=1.000 total time=   0.7s\n",
      "[CV 2/5] END max_depth=10, max_features=sqrt, min_samples_leaf=2, min_samples_split=2, n_estimators=250;, score=1.000 total time=   0.7s\n",
      "[CV 3/5] END max_depth=10, max_features=sqrt, min_samples_leaf=2, min_samples_split=2, n_estimators=250;, score=1.000 total time=   0.6s\n",
      "[CV 4/5] END max_depth=10, max_features=sqrt, min_samples_leaf=2, min_samples_split=2, n_estimators=250;, score=1.000 total time=   0.7s\n",
      "[CV 5/5] END max_depth=10, max_features=sqrt, min_samples_leaf=2, min_samples_split=2, n_estimators=250;, score=1.000 total time=   0.7s\n",
      "[CV 1/5] END max_depth=10, max_features=sqrt, min_samples_leaf=2, min_samples_split=5, n_estimators=200;, score=1.000 total time=   0.6s\n",
      "[CV 2/5] END max_depth=10, max_features=sqrt, min_samples_leaf=2, min_samples_split=5, n_estimators=200;, score=1.000 total time=   0.6s\n",
      "[CV 3/5] END max_depth=10, max_features=sqrt, min_samples_leaf=2, min_samples_split=5, n_estimators=200;, score=1.000 total time=   0.6s\n",
      "[CV 4/5] END max_depth=10, max_features=sqrt, min_samples_leaf=2, min_samples_split=5, n_estimators=200;, score=1.000 total time=   0.7s\n",
      "[CV 5/5] END max_depth=10, max_features=sqrt, min_samples_leaf=2, min_samples_split=5, n_estimators=200;, score=1.000 total time=   0.6s\n",
      "[CV 1/5] END max_depth=10, max_features=sqrt, min_samples_leaf=2, min_samples_split=5, n_estimators=225;, score=1.000 total time=   1.8s\n",
      "[CV 2/5] END max_depth=10, max_features=sqrt, min_samples_leaf=2, min_samples_split=5, n_estimators=225;, score=1.000 total time=   4.1s\n",
      "[CV 3/5] END max_depth=10, max_features=sqrt, min_samples_leaf=2, min_samples_split=5, n_estimators=225;, score=1.000 total time=   0.6s\n",
      "[CV 4/5] END max_depth=10, max_features=sqrt, min_samples_leaf=2, min_samples_split=5, n_estimators=225;, score=1.000 total time=   0.6s\n",
      "[CV 5/5] END max_depth=10, max_features=sqrt, min_samples_leaf=2, min_samples_split=5, n_estimators=225;, score=1.000 total time=   0.7s\n",
      "[CV 1/5] END max_depth=10, max_features=sqrt, min_samples_leaf=2, min_samples_split=5, n_estimators=250;, score=1.000 total time=   0.7s\n",
      "[CV 2/5] END max_depth=10, max_features=sqrt, min_samples_leaf=2, min_samples_split=5, n_estimators=250;, score=1.000 total time=   0.7s\n",
      "[CV 3/5] END max_depth=10, max_features=sqrt, min_samples_leaf=2, min_samples_split=5, n_estimators=250;, score=1.000 total time=   0.7s\n",
      "[CV 4/5] END max_depth=10, max_features=sqrt, min_samples_leaf=2, min_samples_split=5, n_estimators=250;, score=1.000 total time=   0.7s\n",
      "[CV 5/5] END max_depth=10, max_features=sqrt, min_samples_leaf=2, min_samples_split=5, n_estimators=250;, score=1.000 total time=   0.7s\n",
      "[CV 1/5] END max_depth=10, max_features=sqrt, min_samples_leaf=4, min_samples_split=2, n_estimators=200;, score=1.000 total time=   0.6s\n",
      "[CV 2/5] END max_depth=10, max_features=sqrt, min_samples_leaf=4, min_samples_split=2, n_estimators=200;, score=1.000 total time=   0.5s\n",
      "[CV 3/5] END max_depth=10, max_features=sqrt, min_samples_leaf=4, min_samples_split=2, n_estimators=200;, score=1.000 total time=   0.5s\n",
      "[CV 4/5] END max_depth=10, max_features=sqrt, min_samples_leaf=4, min_samples_split=2, n_estimators=200;, score=1.000 total time=   0.5s\n",
      "[CV 5/5] END max_depth=10, max_features=sqrt, min_samples_leaf=4, min_samples_split=2, n_estimators=200;, score=1.000 total time=   0.5s\n",
      "[CV 1/5] END max_depth=10, max_features=sqrt, min_samples_leaf=4, min_samples_split=2, n_estimators=225;, score=1.000 total time=   0.6s\n",
      "[CV 2/5] END max_depth=10, max_features=sqrt, min_samples_leaf=4, min_samples_split=2, n_estimators=225;, score=1.000 total time=   0.6s\n",
      "[CV 3/5] END max_depth=10, max_features=sqrt, min_samples_leaf=4, min_samples_split=2, n_estimators=225;, score=1.000 total time=   0.6s\n",
      "[CV 4/5] END max_depth=10, max_features=sqrt, min_samples_leaf=4, min_samples_split=2, n_estimators=225;, score=1.000 total time=   0.6s\n",
      "[CV 5/5] END max_depth=10, max_features=sqrt, min_samples_leaf=4, min_samples_split=2, n_estimators=225;, score=1.000 total time=   0.6s\n",
      "[CV 1/5] END max_depth=10, max_features=sqrt, min_samples_leaf=4, min_samples_split=2, n_estimators=250;, score=1.000 total time=   0.7s\n",
      "[CV 2/5] END max_depth=10, max_features=sqrt, min_samples_leaf=4, min_samples_split=2, n_estimators=250;, score=1.000 total time=   0.7s\n",
      "[CV 3/5] END max_depth=10, max_features=sqrt, min_samples_leaf=4, min_samples_split=2, n_estimators=250;, score=1.000 total time=   0.7s\n",
      "[CV 4/5] END max_depth=10, max_features=sqrt, min_samples_leaf=4, min_samples_split=2, n_estimators=250;, score=1.000 total time=   0.7s\n",
      "[CV 5/5] END max_depth=10, max_features=sqrt, min_samples_leaf=4, min_samples_split=2, n_estimators=250;, score=1.000 total time=   0.6s\n",
      "[CV 1/5] END max_depth=10, max_features=sqrt, min_samples_leaf=4, min_samples_split=5, n_estimators=200;, score=1.000 total time=   0.6s\n",
      "[CV 2/5] END max_depth=10, max_features=sqrt, min_samples_leaf=4, min_samples_split=5, n_estimators=200;, score=1.000 total time=   0.5s\n",
      "[CV 3/5] END max_depth=10, max_features=sqrt, min_samples_leaf=4, min_samples_split=5, n_estimators=200;, score=1.000 total time=   0.5s\n",
      "[CV 4/5] END max_depth=10, max_features=sqrt, min_samples_leaf=4, min_samples_split=5, n_estimators=200;, score=1.000 total time=   0.5s\n",
      "[CV 5/5] END max_depth=10, max_features=sqrt, min_samples_leaf=4, min_samples_split=5, n_estimators=200;, score=1.000 total time=   0.5s\n",
      "[CV 1/5] END max_depth=10, max_features=sqrt, min_samples_leaf=4, min_samples_split=5, n_estimators=225;, score=1.000 total time=   0.6s\n",
      "[CV 2/5] END max_depth=10, max_features=sqrt, min_samples_leaf=4, min_samples_split=5, n_estimators=225;, score=1.000 total time=   0.7s\n",
      "[CV 3/5] END max_depth=10, max_features=sqrt, min_samples_leaf=4, min_samples_split=5, n_estimators=225;, score=1.000 total time=   0.7s\n",
      "[CV 4/5] END max_depth=10, max_features=sqrt, min_samples_leaf=4, min_samples_split=5, n_estimators=225;, score=1.000 total time=   0.6s\n",
      "[CV 5/5] END max_depth=10, max_features=sqrt, min_samples_leaf=4, min_samples_split=5, n_estimators=225;, score=1.000 total time=   0.6s\n",
      "[CV 1/5] END max_depth=10, max_features=sqrt, min_samples_leaf=4, min_samples_split=5, n_estimators=250;, score=1.000 total time=   0.7s\n",
      "[CV 2/5] END max_depth=10, max_features=sqrt, min_samples_leaf=4, min_samples_split=5, n_estimators=250;, score=1.000 total time=   0.6s\n",
      "[CV 3/5] END max_depth=10, max_features=sqrt, min_samples_leaf=4, min_samples_split=5, n_estimators=250;, score=1.000 total time=   0.7s\n",
      "[CV 4/5] END max_depth=10, max_features=sqrt, min_samples_leaf=4, min_samples_split=5, n_estimators=250;, score=1.000 total time=   0.7s\n",
      "[CV 5/5] END max_depth=10, max_features=sqrt, min_samples_leaf=4, min_samples_split=5, n_estimators=250;, score=1.000 total time=   0.7s\n",
      "[CV 1/5] END max_depth=None, max_features=auto, min_samples_leaf=2, min_samples_split=2, n_estimators=200;, score=1.000 total time=   0.5s\n",
      "[CV 2/5] END max_depth=None, max_features=auto, min_samples_leaf=2, min_samples_split=2, n_estimators=200;, score=1.000 total time=   0.5s\n",
      "[CV 3/5] END max_depth=None, max_features=auto, min_samples_leaf=2, min_samples_split=2, n_estimators=200;, score=1.000 total time=   0.5s\n",
      "[CV 4/5] END max_depth=None, max_features=auto, min_samples_leaf=2, min_samples_split=2, n_estimators=200;, score=1.000 total time=   0.6s\n",
      "[CV 5/5] END max_depth=None, max_features=auto, min_samples_leaf=2, min_samples_split=2, n_estimators=200;, score=1.000 total time=   0.6s\n",
      "[CV 1/5] END max_depth=None, max_features=auto, min_samples_leaf=2, min_samples_split=2, n_estimators=225;, score=1.000 total time=   0.6s\n",
      "[CV 2/5] END max_depth=None, max_features=auto, min_samples_leaf=2, min_samples_split=2, n_estimators=225;, score=1.000 total time=   0.6s\n",
      "[CV 3/5] END max_depth=None, max_features=auto, min_samples_leaf=2, min_samples_split=2, n_estimators=225;, score=1.000 total time=   0.6s\n",
      "[CV 4/5] END max_depth=None, max_features=auto, min_samples_leaf=2, min_samples_split=2, n_estimators=225;, score=1.000 total time=   0.7s\n",
      "[CV 5/5] END max_depth=None, max_features=auto, min_samples_leaf=2, min_samples_split=2, n_estimators=225;, score=1.000 total time=   0.7s\n",
      "[CV 1/5] END max_depth=None, max_features=auto, min_samples_leaf=2, min_samples_split=2, n_estimators=250;, score=1.000 total time=   0.8s\n",
      "[CV 2/5] END max_depth=None, max_features=auto, min_samples_leaf=2, min_samples_split=2, n_estimators=250;, score=1.000 total time=   0.8s\n",
      "[CV 3/5] END max_depth=None, max_features=auto, min_samples_leaf=2, min_samples_split=2, n_estimators=250;, score=1.000 total time=   0.8s\n",
      "[CV 4/5] END max_depth=None, max_features=auto, min_samples_leaf=2, min_samples_split=2, n_estimators=250;, score=1.000 total time=   0.8s\n",
      "[CV 5/5] END max_depth=None, max_features=auto, min_samples_leaf=2, min_samples_split=2, n_estimators=250;, score=1.000 total time=   0.8s\n",
      "[CV 1/5] END max_depth=None, max_features=auto, min_samples_leaf=2, min_samples_split=5, n_estimators=200;, score=1.000 total time=   0.6s\n",
      "[CV 2/5] END max_depth=None, max_features=auto, min_samples_leaf=2, min_samples_split=5, n_estimators=200;, score=1.000 total time=   0.6s\n",
      "[CV 3/5] END max_depth=None, max_features=auto, min_samples_leaf=2, min_samples_split=5, n_estimators=200;, score=1.000 total time=   0.6s\n",
      "[CV 4/5] END max_depth=None, max_features=auto, min_samples_leaf=2, min_samples_split=5, n_estimators=200;, score=1.000 total time=   0.6s\n",
      "[CV 5/5] END max_depth=None, max_features=auto, min_samples_leaf=2, min_samples_split=5, n_estimators=200;, score=1.000 total time=   0.5s\n",
      "[CV 1/5] END max_depth=None, max_features=auto, min_samples_leaf=2, min_samples_split=5, n_estimators=225;, score=1.000 total time=   0.7s\n",
      "[CV 2/5] END max_depth=None, max_features=auto, min_samples_leaf=2, min_samples_split=5, n_estimators=225;, score=1.000 total time=   0.6s\n",
      "[CV 3/5] END max_depth=None, max_features=auto, min_samples_leaf=2, min_samples_split=5, n_estimators=225;, score=1.000 total time=   0.6s\n",
      "[CV 4/5] END max_depth=None, max_features=auto, min_samples_leaf=2, min_samples_split=5, n_estimators=225;, score=1.000 total time=   0.7s\n",
      "[CV 5/5] END max_depth=None, max_features=auto, min_samples_leaf=2, min_samples_split=5, n_estimators=225;, score=1.000 total time=   0.6s\n",
      "[CV 1/5] END max_depth=None, max_features=auto, min_samples_leaf=2, min_samples_split=5, n_estimators=250;, score=1.000 total time=   0.7s\n",
      "[CV 2/5] END max_depth=None, max_features=auto, min_samples_leaf=2, min_samples_split=5, n_estimators=250;, score=1.000 total time=   0.7s\n",
      "[CV 3/5] END max_depth=None, max_features=auto, min_samples_leaf=2, min_samples_split=5, n_estimators=250;, score=1.000 total time=   0.7s\n",
      "[CV 4/5] END max_depth=None, max_features=auto, min_samples_leaf=2, min_samples_split=5, n_estimators=250;, score=1.000 total time=   0.7s\n",
      "[CV 5/5] END max_depth=None, max_features=auto, min_samples_leaf=2, min_samples_split=5, n_estimators=250;, score=1.000 total time=   0.7s\n",
      "[CV 1/5] END max_depth=None, max_features=auto, min_samples_leaf=4, min_samples_split=2, n_estimators=200;, score=1.000 total time=   0.6s\n",
      "[CV 2/5] END max_depth=None, max_features=auto, min_samples_leaf=4, min_samples_split=2, n_estimators=200;, score=1.000 total time=   0.5s\n",
      "[CV 3/5] END max_depth=None, max_features=auto, min_samples_leaf=4, min_samples_split=2, n_estimators=200;, score=1.000 total time=   0.5s\n",
      "[CV 4/5] END max_depth=None, max_features=auto, min_samples_leaf=4, min_samples_split=2, n_estimators=200;, score=1.000 total time=   0.6s\n",
      "[CV 5/5] END max_depth=None, max_features=auto, min_samples_leaf=4, min_samples_split=2, n_estimators=200;, score=1.000 total time=   0.5s\n",
      "[CV 1/5] END max_depth=None, max_features=auto, min_samples_leaf=4, min_samples_split=2, n_estimators=225;, score=1.000 total time=   0.6s\n",
      "[CV 2/5] END max_depth=None, max_features=auto, min_samples_leaf=4, min_samples_split=2, n_estimators=225;, score=1.000 total time=   0.6s\n",
      "[CV 3/5] END max_depth=None, max_features=auto, min_samples_leaf=4, min_samples_split=2, n_estimators=225;, score=1.000 total time=   0.6s\n",
      "[CV 4/5] END max_depth=None, max_features=auto, min_samples_leaf=4, min_samples_split=2, n_estimators=225;, score=1.000 total time=   0.6s\n",
      "[CV 5/5] END max_depth=None, max_features=auto, min_samples_leaf=4, min_samples_split=2, n_estimators=225;, score=1.000 total time=   0.6s\n",
      "[CV 1/5] END max_depth=None, max_features=auto, min_samples_leaf=4, min_samples_split=2, n_estimators=250;, score=1.000 total time=   0.7s\n",
      "[CV 2/5] END max_depth=None, max_features=auto, min_samples_leaf=4, min_samples_split=2, n_estimators=250;, score=1.000 total time=   0.7s\n",
      "[CV 3/5] END max_depth=None, max_features=auto, min_samples_leaf=4, min_samples_split=2, n_estimators=250;, score=1.000 total time=   0.6s\n",
      "[CV 4/5] END max_depth=None, max_features=auto, min_samples_leaf=4, min_samples_split=2, n_estimators=250;, score=1.000 total time=   0.6s\n",
      "[CV 5/5] END max_depth=None, max_features=auto, min_samples_leaf=4, min_samples_split=2, n_estimators=250;, score=1.000 total time=   0.7s\n",
      "[CV 1/5] END max_depth=None, max_features=auto, min_samples_leaf=4, min_samples_split=5, n_estimators=200;, score=1.000 total time=   0.5s\n",
      "[CV 2/5] END max_depth=None, max_features=auto, min_samples_leaf=4, min_samples_split=5, n_estimators=200;, score=1.000 total time=   0.5s\n",
      "[CV 3/5] END max_depth=None, max_features=auto, min_samples_leaf=4, min_samples_split=5, n_estimators=200;, score=1.000 total time=   0.5s\n",
      "[CV 4/5] END max_depth=None, max_features=auto, min_samples_leaf=4, min_samples_split=5, n_estimators=200;, score=1.000 total time=   0.6s\n",
      "[CV 5/5] END max_depth=None, max_features=auto, min_samples_leaf=4, min_samples_split=5, n_estimators=200;, score=1.000 total time=   0.5s\n",
      "[CV 1/5] END max_depth=None, max_features=auto, min_samples_leaf=4, min_samples_split=5, n_estimators=225;, score=1.000 total time=   0.6s\n",
      "[CV 2/5] END max_depth=None, max_features=auto, min_samples_leaf=4, min_samples_split=5, n_estimators=225;, score=1.000 total time=   0.6s\n",
      "[CV 3/5] END max_depth=None, max_features=auto, min_samples_leaf=4, min_samples_split=5, n_estimators=225;, score=1.000 total time=   0.6s\n",
      "[CV 4/5] END max_depth=None, max_features=auto, min_samples_leaf=4, min_samples_split=5, n_estimators=225;, score=1.000 total time=   0.6s\n",
      "[CV 5/5] END max_depth=None, max_features=auto, min_samples_leaf=4, min_samples_split=5, n_estimators=225;, score=1.000 total time=   0.6s\n",
      "[CV 1/5] END max_depth=None, max_features=auto, min_samples_leaf=4, min_samples_split=5, n_estimators=250;, score=1.000 total time=   0.7s\n",
      "[CV 2/5] END max_depth=None, max_features=auto, min_samples_leaf=4, min_samples_split=5, n_estimators=250;, score=1.000 total time=   0.6s\n",
      "[CV 3/5] END max_depth=None, max_features=auto, min_samples_leaf=4, min_samples_split=5, n_estimators=250;, score=1.000 total time=   0.7s\n",
      "[CV 4/5] END max_depth=None, max_features=auto, min_samples_leaf=4, min_samples_split=5, n_estimators=250;, score=1.000 total time=   0.7s\n",
      "[CV 5/5] END max_depth=None, max_features=auto, min_samples_leaf=4, min_samples_split=5, n_estimators=250;, score=1.000 total time=   0.7s\n",
      "[CV 1/5] END max_depth=None, max_features=sqrt, min_samples_leaf=2, min_samples_split=2, n_estimators=200;, score=1.000 total time=   0.5s\n",
      "[CV 2/5] END max_depth=None, max_features=sqrt, min_samples_leaf=2, min_samples_split=2, n_estimators=200;, score=1.000 total time=   0.5s\n",
      "[CV 3/5] END max_depth=None, max_features=sqrt, min_samples_leaf=2, min_samples_split=2, n_estimators=200;, score=1.000 total time=   0.5s\n",
      "[CV 4/5] END max_depth=None, max_features=sqrt, min_samples_leaf=2, min_samples_split=2, n_estimators=200;, score=1.000 total time=   0.5s\n",
      "[CV 5/5] END max_depth=None, max_features=sqrt, min_samples_leaf=2, min_samples_split=2, n_estimators=200;, score=1.000 total time=   0.5s\n",
      "[CV 1/5] END max_depth=None, max_features=sqrt, min_samples_leaf=2, min_samples_split=2, n_estimators=225;, score=1.000 total time=   0.6s\n",
      "[CV 2/5] END max_depth=None, max_features=sqrt, min_samples_leaf=2, min_samples_split=2, n_estimators=225;, score=1.000 total time=   0.6s\n",
      "[CV 3/5] END max_depth=None, max_features=sqrt, min_samples_leaf=2, min_samples_split=2, n_estimators=225;, score=1.000 total time=   0.6s\n",
      "[CV 4/5] END max_depth=None, max_features=sqrt, min_samples_leaf=2, min_samples_split=2, n_estimators=225;, score=1.000 total time=   0.6s\n",
      "[CV 5/5] END max_depth=None, max_features=sqrt, min_samples_leaf=2, min_samples_split=2, n_estimators=225;, score=1.000 total time=   0.6s\n",
      "[CV 1/5] END max_depth=None, max_features=sqrt, min_samples_leaf=2, min_samples_split=2, n_estimators=250;, score=1.000 total time=   0.7s\n",
      "[CV 2/5] END max_depth=None, max_features=sqrt, min_samples_leaf=2, min_samples_split=2, n_estimators=250;, score=1.000 total time=   0.7s\n",
      "[CV 3/5] END max_depth=None, max_features=sqrt, min_samples_leaf=2, min_samples_split=2, n_estimators=250;, score=1.000 total time=   0.7s\n",
      "[CV 4/5] END max_depth=None, max_features=sqrt, min_samples_leaf=2, min_samples_split=2, n_estimators=250;, score=1.000 total time=   0.7s\n",
      "[CV 5/5] END max_depth=None, max_features=sqrt, min_samples_leaf=2, min_samples_split=2, n_estimators=250;, score=1.000 total time=   0.7s\n",
      "[CV 1/5] END max_depth=None, max_features=sqrt, min_samples_leaf=2, min_samples_split=5, n_estimators=200;, score=1.000 total time=   0.6s\n",
      "[CV 2/5] END max_depth=None, max_features=sqrt, min_samples_leaf=2, min_samples_split=5, n_estimators=200;, score=1.000 total time=   0.5s\n",
      "[CV 3/5] END max_depth=None, max_features=sqrt, min_samples_leaf=2, min_samples_split=5, n_estimators=200;, score=1.000 total time=   0.5s\n",
      "[CV 4/5] END max_depth=None, max_features=sqrt, min_samples_leaf=2, min_samples_split=5, n_estimators=200;, score=1.000 total time=   0.6s\n",
      "[CV 5/5] END max_depth=None, max_features=sqrt, min_samples_leaf=2, min_samples_split=5, n_estimators=200;, score=1.000 total time=   0.5s\n",
      "[CV 1/5] END max_depth=None, max_features=sqrt, min_samples_leaf=2, min_samples_split=5, n_estimators=225;, score=1.000 total time=   0.7s\n",
      "[CV 2/5] END max_depth=None, max_features=sqrt, min_samples_leaf=2, min_samples_split=5, n_estimators=225;, score=1.000 total time=   0.7s\n",
      "[CV 3/5] END max_depth=None, max_features=sqrt, min_samples_leaf=2, min_samples_split=5, n_estimators=225;, score=1.000 total time=   0.6s\n",
      "[CV 4/5] END max_depth=None, max_features=sqrt, min_samples_leaf=2, min_samples_split=5, n_estimators=225;, score=1.000 total time=   0.6s\n",
      "[CV 5/5] END max_depth=None, max_features=sqrt, min_samples_leaf=2, min_samples_split=5, n_estimators=225;, score=1.000 total time=   0.6s\n",
      "[CV 1/5] END max_depth=None, max_features=sqrt, min_samples_leaf=2, min_samples_split=5, n_estimators=250;, score=1.000 total time=   0.6s\n",
      "[CV 2/5] END max_depth=None, max_features=sqrt, min_samples_leaf=2, min_samples_split=5, n_estimators=250;, score=1.000 total time=   0.6s\n",
      "[CV 3/5] END max_depth=None, max_features=sqrt, min_samples_leaf=2, min_samples_split=5, n_estimators=250;, score=1.000 total time=   0.7s\n",
      "[CV 4/5] END max_depth=None, max_features=sqrt, min_samples_leaf=2, min_samples_split=5, n_estimators=250;, score=1.000 total time=   0.6s\n",
      "[CV 5/5] END max_depth=None, max_features=sqrt, min_samples_leaf=2, min_samples_split=5, n_estimators=250;, score=1.000 total time=   0.7s\n",
      "[CV 1/5] END max_depth=None, max_features=sqrt, min_samples_leaf=4, min_samples_split=2, n_estimators=200;, score=1.000 total time=   0.6s\n",
      "[CV 2/5] END max_depth=None, max_features=sqrt, min_samples_leaf=4, min_samples_split=2, n_estimators=200;, score=1.000 total time=   0.6s\n",
      "[CV 3/5] END max_depth=None, max_features=sqrt, min_samples_leaf=4, min_samples_split=2, n_estimators=200;, score=1.000 total time=   0.6s\n",
      "[CV 4/5] END max_depth=None, max_features=sqrt, min_samples_leaf=4, min_samples_split=2, n_estimators=200;, score=1.000 total time=   0.7s\n",
      "[CV 5/5] END max_depth=None, max_features=sqrt, min_samples_leaf=4, min_samples_split=2, n_estimators=200;, score=1.000 total time=   0.6s\n",
      "[CV 1/5] END max_depth=None, max_features=sqrt, min_samples_leaf=4, min_samples_split=2, n_estimators=225;, score=1.000 total time=   0.6s\n",
      "[CV 2/5] END max_depth=None, max_features=sqrt, min_samples_leaf=4, min_samples_split=2, n_estimators=225;, score=1.000 total time=   0.7s\n",
      "[CV 3/5] END max_depth=None, max_features=sqrt, min_samples_leaf=4, min_samples_split=2, n_estimators=225;, score=1.000 total time=   0.7s\n",
      "[CV 4/5] END max_depth=None, max_features=sqrt, min_samples_leaf=4, min_samples_split=2, n_estimators=225;, score=1.000 total time=   0.7s\n",
      "[CV 5/5] END max_depth=None, max_features=sqrt, min_samples_leaf=4, min_samples_split=2, n_estimators=225;, score=1.000 total time=   0.7s\n",
      "[CV 1/5] END max_depth=None, max_features=sqrt, min_samples_leaf=4, min_samples_split=2, n_estimators=250;, score=1.000 total time=   0.7s\n",
      "[CV 2/5] END max_depth=None, max_features=sqrt, min_samples_leaf=4, min_samples_split=2, n_estimators=250;, score=1.000 total time=   0.7s\n",
      "[CV 3/5] END max_depth=None, max_features=sqrt, min_samples_leaf=4, min_samples_split=2, n_estimators=250;, score=1.000 total time=   0.7s\n",
      "[CV 4/5] END max_depth=None, max_features=sqrt, min_samples_leaf=4, min_samples_split=2, n_estimators=250;, score=1.000 total time=   0.7s\n",
      "[CV 5/5] END max_depth=None, max_features=sqrt, min_samples_leaf=4, min_samples_split=2, n_estimators=250;, score=1.000 total time=   0.7s\n",
      "[CV 1/5] END max_depth=None, max_features=sqrt, min_samples_leaf=4, min_samples_split=5, n_estimators=200;, score=1.000 total time=   0.6s\n",
      "[CV 2/5] END max_depth=None, max_features=sqrt, min_samples_leaf=4, min_samples_split=5, n_estimators=200;, score=1.000 total time=   0.5s\n",
      "[CV 3/5] END max_depth=None, max_features=sqrt, min_samples_leaf=4, min_samples_split=5, n_estimators=200;, score=1.000 total time=   0.6s\n",
      "[CV 4/5] END max_depth=None, max_features=sqrt, min_samples_leaf=4, min_samples_split=5, n_estimators=200;, score=1.000 total time=   0.6s\n",
      "[CV 5/5] END max_depth=None, max_features=sqrt, min_samples_leaf=4, min_samples_split=5, n_estimators=200;, score=1.000 total time=   0.5s\n",
      "[CV 1/5] END max_depth=None, max_features=sqrt, min_samples_leaf=4, min_samples_split=5, n_estimators=225;, score=1.000 total time=   0.6s\n",
      "[CV 2/5] END max_depth=None, max_features=sqrt, min_samples_leaf=4, min_samples_split=5, n_estimators=225;, score=1.000 total time=   0.6s\n",
      "[CV 3/5] END max_depth=None, max_features=sqrt, min_samples_leaf=4, min_samples_split=5, n_estimators=225;, score=1.000 total time=   0.6s\n",
      "[CV 4/5] END max_depth=None, max_features=sqrt, min_samples_leaf=4, min_samples_split=5, n_estimators=225;, score=1.000 total time=   0.7s\n",
      "[CV 5/5] END max_depth=None, max_features=sqrt, min_samples_leaf=4, min_samples_split=5, n_estimators=225;, score=1.000 total time=   0.7s\n",
      "[CV 1/5] END max_depth=None, max_features=sqrt, min_samples_leaf=4, min_samples_split=5, n_estimators=250;, score=1.000 total time=   0.7s\n",
      "[CV 2/5] END max_depth=None, max_features=sqrt, min_samples_leaf=4, min_samples_split=5, n_estimators=250;, score=1.000 total time=   0.7s\n",
      "[CV 3/5] END max_depth=None, max_features=sqrt, min_samples_leaf=4, min_samples_split=5, n_estimators=250;, score=1.000 total time=   0.8s\n",
      "[CV 4/5] END max_depth=None, max_features=sqrt, min_samples_leaf=4, min_samples_split=5, n_estimators=250;, score=1.000 total time=   0.8s\n",
      "[CV 5/5] END max_depth=None, max_features=sqrt, min_samples_leaf=4, min_samples_split=5, n_estimators=250;, score=1.000 total time=   0.7s\n",
      "Train Accuracy : 1.0\n",
      "Train Confusion Matrix:\n",
      "[[ 551    0]\n",
      " [   0 4782]]\n"
     ]
    },
    {
     "data": {
      "image/png": "[encoded data removed]",
      "text/plain": [
       "<Figure size 432x288 with 2 Axes>"
      ]
     },
     "metadata": {
      "needs_background": "light"
     },
     "output_type": "display_data"
    },
    {
     "name": "stdout",
     "output_type": "stream",
     "text": [
      "--------------------------------------------------\n",
      "Test Accuracy : 1.0\n",
      "Test Confusion Matrix:\n",
      "[[ 272    0]\n",
      " [   0 2356]]\n"
     ]
    },
    {
     "data": {
      "image/png": "[encoded data removed]",
      "text/plain": [
       "<Figure size 432x288 with 2 Axes>"
      ]
     },
     "metadata": {
      "needs_background": "light"
     },
     "output_type": "display_data"
    },
    {
     "name": "stdout",
     "output_type": "stream",
     "text": [
      "Media de cross_validation 1.0\n"
     ]
    }
   ],
   "source": [
    "n_estimators = [int(x) for x in np.linspace(start = 200, stop = 250, num = 3)]\n",
    "# Number of features to consider at every split\n",
    "max_features = ['auto', 'sqrt']\n",
    "# Maximum number of levels in tree\n",
    "max_depth = [10]\n",
    "max_depth.append(None)\n",
    "# Minimum number of samples required to split a node\n",
    "min_samples_split = [2, 5]\n",
    "# Minimum number of samples required at each leaf node\n",
    "min_samples_leaf = [2, 4]\n",
    "# Method of selecting samples for training each tree\n",
    "bootstrap = [True, False]# Create the random grid\n",
    "random_grid = {'n_estimators': n_estimators,\n",
    "               'max_features': max_features,\n",
    "               'max_depth': max_depth,\n",
    "               'min_samples_split': min_samples_split,\n",
    "               'min_samples_leaf': min_samples_leaf}\n",
    "\n",
    "model=RandomForestClassifier(criterion='entropy')\n",
    "\n",
    "grid_search = GridSearchCV(model, random_grid, refit = True, verbose = 3)\n",
    " \n",
    "# fitting the model for grid search\n",
    "grid_search.fit(X_train, y_train)\n",
    "\n",
    "\n",
    "model_best = grid_search.best_estimator_\n",
    "\n",
    "evaluate_model(model_best,X,y,y_test,y_train,X_test,X_train)"
   ]
  }
 ],
 "metadata": {
  "interpreter": {
   "hash": "afb8defe19a69eeefc596363b1da8505aea3e7a6c660a4f5f0821418e0dc310d"
  },
  "kernelspec": {
   "display_name": "Python 3.10.2 ('.venv': venv)",
   "language": "python",
   "name": "python3"
  },
  "language_info": {
   "codemirror_mode": {
    "name": "ipython",
    "version": 3
   },
   "file_extension": ".py",
   "mimetype": "text/x-python",
   "name": "python",
   "nbconvert_exporter": "python",
   "pygments_lexer": "ipython3",
   "version": "3.10.4"
  },
  "orig_nbformat": 4
 },
 "nbformat": 4,
 "nbformat_minor": 2
}
